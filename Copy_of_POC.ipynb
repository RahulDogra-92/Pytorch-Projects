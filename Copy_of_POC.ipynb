{
  "cells": [
    {
      "cell_type": "markdown",
      "metadata": {
        "id": "view-in-github",
        "colab_type": "text"
      },
      "source": [
        "<a href=\"https://colab.research.google.com/github/RahulDogra-92/Pytorch-Projects/blob/main/Copy_of_POC.ipynb\" target=\"_parent\"><img src=\"https://colab.research.google.com/assets/colab-badge.svg\" alt=\"Open In Colab\"/></a>"
      ]
    },
    {
      "cell_type": "code",
      "execution_count": null,
      "id": "4710b12c",
      "metadata": {
        "id": "4710b12c"
      },
      "outputs": [],
      "source": [
        "#!pip install pdfplumber\n",
        "import pdfplumber"
      ]
    },
    {
      "cell_type": "code",
      "execution_count": null,
      "id": "d44ec3ba",
      "metadata": {
        "id": "d44ec3ba"
      },
      "outputs": [],
      "source": [
        "data = []\n",
        "all_text = \" \"\n",
        "with pdfplumber.open('resume.pdf') as pdf:\n",
        "    for pdf_page in pdf.pages:\n",
        "        single_page_text = pdf_page.extract_text()\n",
        "        all_text = all_text + single_page_text\n",
        "        \n",
        "    data.append(all_text)"
      ]
    },
    {
      "cell_type": "code",
      "execution_count": null,
      "id": "6cb7b103",
      "metadata": {
        "colab": {
          "base_uri": "https://localhost:8080/"
        },
        "id": "6cb7b103",
        "outputId": "dcfbcc92-cc0b-4ba6-caf7-3e0194f39237"
      },
      "outputs": [
        {
          "output_type": "execute_result",
          "data": {
            "text/plain": [
              "[' Jafus Martin \\nWoodbridge, VA 22191 | 225-955-4406 | Jaym5338@gmail.com \\nProfessional Summary \\nCertified IT Specialist with experience in both new and existing network infrastructures combining \\nexperience in Cisco, VMware, LAN technologies, and Microsoft to provide exceptional support to clients \\nand potential partners and hold an active TS/SCI clearance with full scope polygraph. \\nEducation & Certifications \\nAWS Certified Solutions Architect (SAA), 2021 \\nCertified Information Systems Security Professional (CISSP), 2020 \\nCisco Certified Network Administrator Security (CCNA-Sec), 2018 \\nVMware Certified Professional 6 – Data Center Virtualization (VCP6-DCV), 2017 \\nCisco Certified Network Administrator (CCNA), 2017 \\n2-year Certificate: Network Engineering, 2016\\nBaton Rouge Community College － Baton Rouge, LA\\nIC3 Certification, 2014 \\nProfessional Experience \\nHTS INFOSYS / JACOBS FNS – RESTON, VA \\nFIREWALL ENGINEER, JUNE 2018 – CURRENT \\n• Manage shell scripts for device updates and network automation\\n• Provides senior level network design, implementation, and troubleshooting support for multiple\\nLseincuurxi tPyr oafnidci ennectwy;o rk products/applications including installation of new hardware and software\\n• Provides technical support and assistance with client specialists that plan, coordinate, and  \\nimplement network security measures.\\n• Review implementation tasks provide status back to team lead or project managers on dai ly\\nprogress.\\n• Apply software and hardware standards in the analysis, specification, development, integrat ion,\\nand acquisition of network security systems for Information Technology (IT) applications.\\n \\nVERMA SYSTEMS － BATON ROUGE, LA \\nNETWORK ENGINEER I & II, JUNE 2016 - JUNE 2018 \\n•\\n• DBueliilvdeinrg e, fmficainenagt icnlgo,u adn md imgraaintitoanins ifnrgo mth eO nn-ePtwreomrke siinsf rsaesrtvriucecstu troe c alonudd a ipnpflriacsattriounct cuorme upsoinnegn Ctlso fuodr \\nmVeannyyu l.arge clients.\\n• Maintain a thorough understanding of the basics behind the Internet and its workings (DNS,  \\nSecurity, IP Routing, HTTP, VPN, Email Routing, SPAM, etc.)\\n• Configure and maintain virtualized environments (ESXi, VMware, etc.)  \\n• Configure and setup Cisco Firewalls, VPN and Security appliances for access to vital business\\napplications\\n ']"
            ]
          },
          "metadata": {},
          "execution_count": 3
        }
      ],
      "source": [
        "data"
      ]
    },
    {
      "cell_type": "markdown",
      "id": "27caebff",
      "metadata": {
        "id": "27caebff"
      },
      "source": [
        "# Data Cleaning"
      ]
    },
    {
      "cell_type": "code",
      "execution_count": null,
      "id": "adf690c8",
      "metadata": {
        "id": "adf690c8"
      },
      "outputs": [],
      "source": [
        "#remove urls from text python\n",
        "import re\n",
        "new_data = []\n",
        "for i in data:\n",
        "    clean_line = re.sub(r\"http\\S+\", \"\", i)\n",
        "    new_data.append(clean_line)"
      ]
    },
    {
      "cell_type": "code",
      "execution_count": null,
      "id": "cbe2a14d",
      "metadata": {
        "id": "cbe2a14d"
      },
      "outputs": [],
      "source": [
        "#python-beautifulsoup-how-to-remove-all-tags-from-an-element\n",
        "from bs4 import BeautifulSoup\n",
        "new_data1 = []\n",
        "for i in new_data:\n",
        "    \n",
        "    soup = BeautifulSoup(i,\"lxml\")\n",
        "    text = soup.get_text()\n",
        "    new_data1.append(text)"
      ]
    },
    {
      "cell_type": "code",
      "execution_count": null,
      "id": "6eb98f32",
      "metadata": {
        "colab": {
          "base_uri": "https://localhost:8080/"
        },
        "id": "6eb98f32",
        "outputId": "53c92a99-e33b-49b0-c524-0ca839d555df"
      },
      "outputs": [
        {
          "output_type": "execute_result",
          "data": {
            "text/plain": [
              "['Jafus Martin \\nWoodbridge, VA 22191 | 225-955-4406 | Jaym5338@gmail.com \\nProfessional Summary \\nCertified IT Specialist with experience in both new and existing network infrastructures combining \\nexperience in Cisco, VMware, LAN technologies, and Microsoft to provide exceptional support to clients \\nand potential partners and hold an active TS/SCI clearance with full scope polygraph. \\nEducation & Certifications \\nAWS Certified Solutions Architect (SAA), 2021 \\nCertified Information Systems Security Professional (CISSP), 2020 \\nCisco Certified Network Administrator Security (CCNA-Sec), 2018 \\nVMware Certified Professional 6 – Data Center Virtualization (VCP6-DCV), 2017 \\nCisco Certified Network Administrator (CCNA), 2017 \\n2-year Certificate: Network Engineering, 2016\\nBaton Rouge Community College － Baton Rouge, LA\\nIC3 Certification, 2014 \\nProfessional Experience \\nHTS INFOSYS / JACOBS FNS – RESTON, VA \\nFIREWALL ENGINEER, JUNE 2018 – CURRENT \\n• Manage shell scripts for device updates and network automation\\n• Provides senior level network design, implementation, and troubleshooting support for multiple\\nLseincuurxi tPyr oafnidci ennectwy;o rk products/applications including installation of new hardware and software\\n• Provides technical support and assistance with client specialists that plan, coordinate, and  \\nimplement network security measures.\\n• Review implementation tasks provide status back to team lead or project managers on dai ly\\nprogress.\\n• Apply software and hardware standards in the analysis, specification, development, integrat ion,\\nand acquisition of network security systems for Information Technology (IT) applications.\\n \\nVERMA SYSTEMS － BATON ROUGE, LA \\nNETWORK ENGINEER I & II, JUNE 2016 - JUNE 2018 \\n•\\n• DBueliilvdeinrg e, fmficainenagt icnlgo,u adn md imgraaintitoanins ifnrgo mth eO nn-ePtwreomrke siinsf rsaesrtvriucecstu troe c alonudd a ipnpflriacsattriounct cuorme upsoinnegn Ctlso fuodr \\nmVeannyyu l.arge clients.\\n• Maintain a thorough understanding of the basics behind the Internet and its workings (DNS,  \\nSecurity, IP Routing, HTTP, VPN, Email Routing, SPAM, etc.)\\n• Configure and maintain virtualized environments (ESXi, VMware, etc.)  \\n• Configure and setup Cisco Firewalls, VPN and Security appliances for access to vital business\\napplications\\n ']"
            ]
          },
          "metadata": {},
          "execution_count": 8
        }
      ],
      "source": [
        "new_data1"
      ]
    },
    {
      "cell_type": "code",
      "execution_count": null,
      "id": "8ca8c5f7",
      "metadata": {
        "id": "8ca8c5f7"
      },
      "outputs": [],
      "source": [
        "def decontracted(phrase):\n",
        "    # specific\n",
        "    phrase = re.sub(r\"won't\", \"will not\", phrase)\n",
        "    phrase = re.sub(r\"can\\'t\", \"can not\", phrase)\n",
        "\n",
        "    # general\n",
        "    phrase = re.sub(r\"n\\'t\", \" not\", phrase)\n",
        "    phrase = re.sub(r\"\\'re\", \" are\", phrase)\n",
        "    phrase = re.sub(r\"\\'s\", \" is\", phrase)\n",
        "    phrase = re.sub(r\"\\'d\", \" would\", phrase)\n",
        "    phrase = re.sub(r\"\\'ll\", \" will\", phrase)\n",
        "    phrase = re.sub(r\"\\'t\", \" not\", phrase)\n",
        "    phrase = re.sub(r\"\\'ve\", \" have\", phrase)\n",
        "    phrase = re.sub(r\"\\'m\", \" am\", phrase)\n",
        "    return phrase"
      ]
    },
    {
      "cell_type": "code",
      "execution_count": null,
      "id": "33246034",
      "metadata": {
        "id": "33246034"
      },
      "outputs": [],
      "source": [
        "# we are removing the words from the stop words list: 'no', 'nor', 'not'\n",
        "stopwords= set(['br', 'the', 'i', 'me', 'my', 'myself', 'we', 'our', 'ours', 'ourselves', 'you', \"you're\", \"you've\",\\\n",
        "            \"you'll\", \"you'd\", 'your', 'yours', 'yourself', 'yourselves', 'he', 'him', 'his', 'himself', \\\n",
        "            'she', \"she's\", 'her', 'hers', 'herself', 'it', \"it's\", 'its', 'itself', 'they', 'them', 'their',\\\n",
        "            'theirs', 'themselves', 'what', 'which', 'who', 'whom', 'this', 'that', \"that'll\", 'these', 'those', \\\n",
        "            'am', 'is', 'are', 'was', 'were', 'be', 'been', 'being', 'have', 'has', 'had', 'having', 'do', 'does', \\\n",
        "            'did', 'doing', 'a', 'an', 'the', 'and', 'but', 'if', 'or', 'because', 'as', 'until', 'while', 'of', \\\n",
        "            'at', 'by', 'for', 'with', 'about', 'against', 'between', 'into', 'through', 'during', 'before', 'after',\\\n",
        "            'above', 'below', 'to', 'from', 'up', 'down', 'in', 'out', 'on', 'off', 'over', 'under', 'again', 'further',\\\n",
        "            'then', 'once', 'here', 'there', 'when', 'where', 'why', 'how', 'all', 'any', 'both', 'each', 'few', 'more',\\\n",
        "            'most', 'other', 'some', 'such', 'only', 'own', 'same', 'so', 'than', 'too', 'very', \\\n",
        "            's', 't', 'can', 'will', 'just', 'don', \"don't\", 'should', \"should've\", 'now', 'd', 'll', 'm', 'o', 're', \\\n",
        "            've', 'y', 'ain', 'aren', \"aren't\", 'couldn', \"couldn't\", 'didn', \"didn't\", 'doesn', \"doesn't\", 'hadn',\\\n",
        "            \"hadn't\", 'hasn', \"hasn't\", 'haven', \"haven't\", 'isn', \"isn't\", 'ma', 'mightn', \"mightn't\", 'mustn',\\\n",
        "            \"mustn't\", 'needn', \"needn't\", 'shan', \"shan't\", 'shouldn', \"shouldn't\", 'wasn', \"wasn't\", 'weren', \"weren't\", \\\n",
        "            'won', \"won't\", 'wouldn', \"wouldn't\"])"
      ]
    },
    {
      "cell_type": "code",
      "execution_count": null,
      "id": "5fb8ef70",
      "metadata": {
        "colab": {
          "base_uri": "https://localhost:8080/",
          "height": 143
        },
        "id": "5fb8ef70",
        "outputId": "57db33e3-b948-4841-882d-92bc76926b74"
      },
      "outputs": [
        {
          "output_type": "execute_result",
          "data": {
            "text/plain": [
              "'Jafus Martin \\nWoodbridge, VA 22191 | 225-955-4406 | Jaym5338@gmail.com \\nProfessional Summary \\nCertified IT Specialist with experience in both new and existing network infrastructures combining \\nexperience in Cisco, VMware, LAN technologies, and Microsoft to provide exceptional support to clients \\nand potential partners and hold an active TS/SCI clearance with full scope polygraph. \\nEducation & Certifications \\nAWS Certified Solutions Architect (SAA), 2021 \\nCertified Information Systems Security Professional (CISSP), 2020 \\nCisco Certified Network Administrator Security (CCNA-Sec), 2018 \\nVMware Certified Professional 6 – Data Center Virtualization (VCP6-DCV), 2017 \\nCisco Certified Network Administrator (CCNA), 2017 \\n2-year Certificate: Network Engineering, 2016\\nBaton Rouge Community College － Baton Rouge, LA\\nIC3 Certification, 2014 \\nProfessional Experience \\nHTS INFOSYS / JACOBS FNS – RESTON, VA \\nFIREWALL ENGINEER, JUNE 2018 – CURRENT \\n• Manage shell scripts for device updates and network automation\\n• Provides senior level network design, implementation, and troubleshooting support for multiple\\nLseincuurxi tPyr oafnidci ennectwy;o rk products/applications including installation of new hardware and software\\n• Provides technical support and assistance with client specialists that plan, coordinate, and  \\nimplement network security measures.\\n• Review implementation tasks provide status back to team lead or project managers on dai ly\\nprogress.\\n• Apply software and hardware standards in the analysis, specification, development, integrat ion,\\nand acquisition of network security systems for Information Technology (IT) applications.\\n \\nVERMA SYSTEMS － BATON ROUGE, LA \\nNETWORK ENGINEER I & II, JUNE 2016 - JUNE 2018 \\n•\\n• DBueliilvdeinrg e, fmficainenagt icnlgo,u adn md imgraaintitoanins ifnrgo mth eO nn-ePtwreomrke siinsf rsaesrtvriucecstu troe c alonudd a ipnpflriacsattriounct cuorme upsoinnegn Ctlso fuodr \\nmVeannyyu l.arge clients.\\n• Maintain a thorough understanding of the basics behind the Internet and its workings (DNS,  \\nSecurity, IP Routing, HTTP, VPN, Email Routing, SPAM, etc.)\\n• Configure and maintain virtualized environments (ESXi, VMware, etc.)  \\n• Configure and setup Cisco Firewalls, VPN and Security appliances for access to vital business\\napplications\\n '"
            ],
            "application/vnd.google.colaboratory.intrinsic+json": {
              "type": "string"
            }
          },
          "metadata": {},
          "execution_count": 11
        }
      ],
      "source": [
        "new_data1[0]"
      ]
    },
    {
      "cell_type": "code",
      "execution_count": null,
      "id": "28db0f60",
      "metadata": {
        "id": "28db0f60"
      },
      "outputs": [],
      "source": [
        "# Combining all the above  \n",
        "preprocessed_reviews = []\n",
        "# tqdm is for printing the status bar\n",
        "for sentance in range(0,len(new_data1)):\n",
        "    new_data1[sentance] = BeautifulSoup(new_data1[sentance]).get_text()\n",
        "    new_data1[sentance] = decontracted(new_data1[sentance])\n",
        "    #new_data1[sentance] = re.sub(\"\\S*\\d\\S*\", \"\", new_data1[sentance]).strip() #to remove nos\n",
        "    #new_data1[sentance] = re.sub('[^A-Za-z]+', ' ', new_data1[sentance])\n",
        "    new_data1[sentance] = re.sub(r'([a-z0-9+._-]+@[a-z0-9+._-]+\\.[a-z0-9+_-]+)',\"\", new_data1[sentance]) # emails\n",
        "    new_data1[sentance] = re.sub(r'[^\\w ]+', \"\", new_data1[sentance])\n",
        "    new_data1[sentance] = re.sub(r'[A-Za-z]+[\\d]+[\\w]*|[\\d]+[A-Za-z]+[\\w]*',\" \",new_data1[sentance]) # for alphanummerical\n",
        "    new_data1[sentance] = re.sub(r'[_]',\" \",new_data1[sentance])\n",
        "    # https://gist.github.com/sebleier/554280\n",
        "    new_data1[sentance] = ' '.join(e.lower() for e in new_data1[sentance].split() if e.lower() not in stopwords)\n",
        "    preprocessed_reviews.append(new_data1[sentance].strip())"
      ]
    },
    {
      "cell_type": "code",
      "execution_count": null,
      "id": "acd83066",
      "metadata": {
        "colab": {
          "base_uri": "https://localhost:8080/"
        },
        "id": "acd83066",
        "outputId": "61eb4c72-c1fa-440f-c19f-ba8fa3db1163"
      },
      "outputs": [
        {
          "output_type": "execute_result",
          "data": {
            "text/plain": [
              "1"
            ]
          },
          "metadata": {},
          "execution_count": 13
        }
      ],
      "source": [
        "len(new_data1)"
      ]
    },
    {
      "cell_type": "code",
      "execution_count": null,
      "id": "c54e5f29",
      "metadata": {
        "id": "c54e5f29"
      },
      "outputs": [],
      "source": [
        "with open('resume.txt','w',encoding='utf-8') as file1:\n",
        "    file1.write(new_data1[0])"
      ]
    },
    {
      "cell_type": "code",
      "execution_count": null,
      "id": "e2f90214",
      "metadata": {
        "colab": {
          "base_uri": "https://localhost:8080/"
        },
        "id": "e2f90214",
        "outputId": "290493b2-0ca1-4ceb-f865-e0cbff6d7619"
      },
      "outputs": [
        {
          "output_type": "stream",
          "name": "stdout",
          "text": [
            "\u001b[K     |████████████████████████████████| 6.2 MB 5.1 MB/s \n",
            "\u001b[K     |████████████████████████████████| 42 kB 1.3 MB/s \n",
            "\u001b[K     |████████████████████████████████| 181 kB 74.6 MB/s \n",
            "\u001b[K     |████████████████████████████████| 660 kB 65.2 MB/s \n",
            "\u001b[K     |████████████████████████████████| 10.1 MB 50.1 MB/s \n",
            "\u001b[K     |████████████████████████████████| 457 kB 76.0 MB/s \n",
            "\u001b[K     |████████████████████████████████| 58 kB 7.1 MB/s \n",
            "\u001b[?25h"
          ]
        }
      ],
      "source": [
        "! pip install -U spacy -q"
      ]
    },
    {
      "cell_type": "code",
      "execution_count": null,
      "id": "98f5b814",
      "metadata": {
        "colab": {
          "base_uri": "https://localhost:8080/"
        },
        "id": "98f5b814",
        "outputId": "4a264dc1-569d-43a2-a04a-d4b536154b64"
      },
      "outputs": [
        {
          "output_type": "stream",
          "name": "stdout",
          "text": [
            "\u001b[1m\n",
            "============================== Info about spaCy ==============================\u001b[0m\n",
            "\n",
            "spaCy version    3.3.1                         \n",
            "Location         /usr/local/lib/python3.7/dist-packages/spacy\n",
            "Platform         Linux-5.4.188+-x86_64-with-Ubuntu-18.04-bionic\n",
            "Python version   3.7.13                        \n",
            "Pipelines                                      \n",
            "\n"
          ]
        }
      ],
      "source": [
        "!python -m spacy info"
      ]
    },
    {
      "cell_type": "code",
      "execution_count": null,
      "id": "54f74ace",
      "metadata": {
        "colab": {
          "base_uri": "https://localhost:8080/"
        },
        "id": "54f74ace",
        "outputId": "dca9821a-b274-4b7c-9387-8f4ad6b3b181"
      },
      "outputs": [
        {
          "output_type": "stream",
          "name": "stdout",
          "text": [
            "Looking in indexes: https://pypi.org/simple, https://us-python.pkg.dev/colab-wheels/public/simple/\n",
            "Collecting en-core-web-lg==3.3.0\n",
            "  Downloading https://github.com/explosion/spacy-models/releases/download/en_core_web_lg-3.3.0/en_core_web_lg-3.3.0-py3-none-any.whl (400.7 MB)\n",
            "\u001b[K     |████████████████████████████████| 400.7 MB 6.3 kB/s \n",
            "\u001b[?25hRequirement already satisfied: spacy<3.4.0,>=3.3.0.dev0 in /usr/local/lib/python3.7/dist-packages (from en-core-web-lg==3.3.0) (3.3.1)\n",
            "Requirement already satisfied: blis<0.8.0,>=0.4.0 in /usr/local/lib/python3.7/dist-packages (from spacy<3.4.0,>=3.3.0.dev0->en-core-web-lg==3.3.0) (0.4.1)\n",
            "Requirement already satisfied: wasabi<1.1.0,>=0.9.1 in /usr/local/lib/python3.7/dist-packages (from spacy<3.4.0,>=3.3.0.dev0->en-core-web-lg==3.3.0) (0.9.1)\n",
            "Requirement already satisfied: numpy>=1.15.0 in /usr/local/lib/python3.7/dist-packages (from spacy<3.4.0,>=3.3.0.dev0->en-core-web-lg==3.3.0) (1.21.6)\n",
            "Requirement already satisfied: tqdm<5.0.0,>=4.38.0 in /usr/local/lib/python3.7/dist-packages (from spacy<3.4.0,>=3.3.0.dev0->en-core-web-lg==3.3.0) (4.64.0)\n",
            "Requirement already satisfied: catalogue<2.1.0,>=2.0.6 in /usr/local/lib/python3.7/dist-packages (from spacy<3.4.0,>=3.3.0.dev0->en-core-web-lg==3.3.0) (2.0.7)\n",
            "Requirement already satisfied: jinja2 in /usr/local/lib/python3.7/dist-packages (from spacy<3.4.0,>=3.3.0.dev0->en-core-web-lg==3.3.0) (2.11.3)\n",
            "Requirement already satisfied: spacy-legacy<3.1.0,>=3.0.9 in /usr/local/lib/python3.7/dist-packages (from spacy<3.4.0,>=3.3.0.dev0->en-core-web-lg==3.3.0) (3.0.9)\n",
            "Requirement already satisfied: langcodes<4.0.0,>=3.2.0 in /usr/local/lib/python3.7/dist-packages (from spacy<3.4.0,>=3.3.0.dev0->en-core-web-lg==3.3.0) (3.3.0)\n",
            "Requirement already satisfied: preshed<3.1.0,>=3.0.2 in /usr/local/lib/python3.7/dist-packages (from spacy<3.4.0,>=3.3.0.dev0->en-core-web-lg==3.3.0) (3.0.6)\n",
            "Requirement already satisfied: typer<0.5.0,>=0.3.0 in /usr/local/lib/python3.7/dist-packages (from spacy<3.4.0,>=3.3.0.dev0->en-core-web-lg==3.3.0) (0.4.1)\n",
            "Requirement already satisfied: srsly<3.0.0,>=2.4.3 in /usr/local/lib/python3.7/dist-packages (from spacy<3.4.0,>=3.3.0.dev0->en-core-web-lg==3.3.0) (2.4.3)\n",
            "Requirement already satisfied: typing-extensions<4.2.0,>=3.7.4 in /usr/local/lib/python3.7/dist-packages (from spacy<3.4.0,>=3.3.0.dev0->en-core-web-lg==3.3.0) (4.1.1)\n",
            "Requirement already satisfied: spacy-loggers<2.0.0,>=1.0.0 in /usr/local/lib/python3.7/dist-packages (from spacy<3.4.0,>=3.3.0.dev0->en-core-web-lg==3.3.0) (1.0.2)\n",
            "Requirement already satisfied: setuptools in /usr/local/lib/python3.7/dist-packages (from spacy<3.4.0,>=3.3.0.dev0->en-core-web-lg==3.3.0) (57.4.0)\n",
            "Requirement already satisfied: pydantic!=1.8,!=1.8.1,<1.9.0,>=1.7.4 in /usr/local/lib/python3.7/dist-packages (from spacy<3.4.0,>=3.3.0.dev0->en-core-web-lg==3.3.0) (1.8.2)\n",
            "Requirement already satisfied: cymem<2.1.0,>=2.0.2 in /usr/local/lib/python3.7/dist-packages (from spacy<3.4.0,>=3.3.0.dev0->en-core-web-lg==3.3.0) (2.0.6)\n",
            "Requirement already satisfied: requests<3.0.0,>=2.13.0 in /usr/local/lib/python3.7/dist-packages (from spacy<3.4.0,>=3.3.0.dev0->en-core-web-lg==3.3.0) (2.23.0)\n",
            "Requirement already satisfied: pathy>=0.3.5 in /usr/local/lib/python3.7/dist-packages (from spacy<3.4.0,>=3.3.0.dev0->en-core-web-lg==3.3.0) (0.6.1)\n",
            "Requirement already satisfied: packaging>=20.0 in /usr/local/lib/python3.7/dist-packages (from spacy<3.4.0,>=3.3.0.dev0->en-core-web-lg==3.3.0) (21.3)\n",
            "Requirement already satisfied: thinc<8.1.0,>=8.0.14 in /usr/local/lib/python3.7/dist-packages (from spacy<3.4.0,>=3.3.0.dev0->en-core-web-lg==3.3.0) (8.0.17)\n",
            "Requirement already satisfied: murmurhash<1.1.0,>=0.28.0 in /usr/local/lib/python3.7/dist-packages (from spacy<3.4.0,>=3.3.0.dev0->en-core-web-lg==3.3.0) (1.0.7)\n",
            "Requirement already satisfied: zipp>=0.5 in /usr/local/lib/python3.7/dist-packages (from catalogue<2.1.0,>=2.0.6->spacy<3.4.0,>=3.3.0.dev0->en-core-web-lg==3.3.0) (3.8.0)\n",
            "Requirement already satisfied: pyparsing!=3.0.5,>=2.0.2 in /usr/local/lib/python3.7/dist-packages (from packaging>=20.0->spacy<3.4.0,>=3.3.0.dev0->en-core-web-lg==3.3.0) (3.0.9)\n",
            "Requirement already satisfied: smart-open<6.0.0,>=5.0.0 in /usr/local/lib/python3.7/dist-packages (from pathy>=0.3.5->spacy<3.4.0,>=3.3.0.dev0->en-core-web-lg==3.3.0) (5.2.1)\n",
            "Requirement already satisfied: certifi>=2017.4.17 in /usr/local/lib/python3.7/dist-packages (from requests<3.0.0,>=2.13.0->spacy<3.4.0,>=3.3.0.dev0->en-core-web-lg==3.3.0) (2022.5.18.1)\n",
            "Requirement already satisfied: chardet<4,>=3.0.2 in /usr/local/lib/python3.7/dist-packages (from requests<3.0.0,>=2.13.0->spacy<3.4.0,>=3.3.0.dev0->en-core-web-lg==3.3.0) (3.0.4)\n",
            "Requirement already satisfied: urllib3!=1.25.0,!=1.25.1,<1.26,>=1.21.1 in /usr/local/lib/python3.7/dist-packages (from requests<3.0.0,>=2.13.0->spacy<3.4.0,>=3.3.0.dev0->en-core-web-lg==3.3.0) (1.24.3)\n",
            "Requirement already satisfied: idna<3,>=2.5 in /usr/local/lib/python3.7/dist-packages (from requests<3.0.0,>=2.13.0->spacy<3.4.0,>=3.3.0.dev0->en-core-web-lg==3.3.0) (2.10)\n",
            "Requirement already satisfied: click<9.0.0,>=7.1.1 in /usr/local/lib/python3.7/dist-packages (from typer<0.5.0,>=0.3.0->spacy<3.4.0,>=3.3.0.dev0->en-core-web-lg==3.3.0) (7.1.2)\n",
            "Requirement already satisfied: MarkupSafe>=0.23 in /usr/local/lib/python3.7/dist-packages (from jinja2->spacy<3.4.0,>=3.3.0.dev0->en-core-web-lg==3.3.0) (2.0.1)\n",
            "Installing collected packages: en-core-web-lg\n",
            "Successfully installed en-core-web-lg-3.3.0\n",
            "\u001b[38;5;2m✔ Download and installation successful\u001b[0m\n",
            "You can now load the package via spacy.load('en_core_web_lg')\n"
          ]
        }
      ],
      "source": [
        "!python -m spacy download en_core_web_lg"
      ]
    },
    {
      "cell_type": "code",
      "source": [
        "import json\n",
        "f = open('annotations-2.json',encoding='UTF-8')\n",
        "TRAIN_DATA = json.load(f)"
      ],
      "metadata": {
        "id": "t8MaHAVVYvse"
      },
      "id": "t8MaHAVVYvse",
      "execution_count": null,
      "outputs": []
    },
    {
      "cell_type": "code",
      "execution_count": null,
      "id": "f3ff2acb",
      "metadata": {
        "id": "f3ff2acb"
      },
      "outputs": [],
      "source": [
        "import spacy\n",
        "from spacy.tokens import DocBin\n",
        "nlp =  spacy.blank('en')  # load a new spacy model\n",
        "db = DocBin(store_user_data=True) # create a DocBin object"
      ]
    },
    {
      "cell_type": "code",
      "execution_count": null,
      "id": "a6f8139e",
      "metadata": {
        "colab": {
          "base_uri": "https://localhost:8080/"
        },
        "id": "a6f8139e",
        "outputId": "9f0beff3-16af-46b0-e512-49ad723b6dc0"
      },
      "outputs": [
        {
          "output_type": "stream",
          "name": "stderr",
          "text": [
            "100%|██████████| 2/2 [00:00<00:00, 169.46it/s]\n"
          ]
        }
      ],
      "source": [
        "from spacy.tokens import DocBin\n",
        "from tqdm import tqdm\n",
        "for text, annot in tqdm(TRAIN_DATA['annotations']):\n",
        "        doc = nlp.make_doc(text) \n",
        "        ents = []\n",
        "        for start, end, label in annot[\"entities\"]:\n",
        "            span = doc.char_span(start, end, label=label, alignment_mode=\"contract\")\n",
        "            if span is None:\n",
        "                print(\"Skipping entity\")\n",
        "            else:\n",
        "                ents.append(span)\n",
        "        doc.ents = ents \n",
        "        db.add(doc)\n",
        "\n",
        "db.to_disk(\"./train.spacy\") # save the docbin object"
      ]
    },
    {
      "cell_type": "code",
      "source": [
        "! python -m spacy init config config.cfg --lang en --pipeline ner --optimize efficiency"
      ],
      "metadata": {
        "colab": {
          "base_uri": "https://localhost:8080/"
        },
        "id": "8MWQxZKEY-vA",
        "outputId": "795d739f-2d48-4d62-e256-facf700099f7"
      },
      "id": "8MWQxZKEY-vA",
      "execution_count": null,
      "outputs": [
        {
          "output_type": "stream",
          "name": "stdout",
          "text": [
            "\u001b[38;5;3m⚠ To generate a more effective transformer-based config (GPU-only),\n",
            "install the spacy-transformers package and re-run this command. The config\n",
            "generated now does not use transformers.\u001b[0m\n",
            "\u001b[38;5;4mℹ Generated config template specific for your use case\u001b[0m\n",
            "- Language: en\n",
            "- Pipeline: ner\n",
            "- Optimize for: efficiency\n",
            "- Hardware: CPU\n",
            "- Transformer: None\n",
            "\u001b[38;5;2m✔ Auto-filled config with all values\u001b[0m\n",
            "\u001b[38;5;2m✔ Saved config\u001b[0m\n",
            "config.cfg\n",
            "You can now add your data and train your pipeline:\n",
            "python -m spacy train config.cfg --paths.train ./train.spacy --paths.dev ./dev.spacy\n"
          ]
        }
      ]
    },
    {
      "cell_type": "code",
      "source": [
        "!python -m spacy train  config.cfg --output ./output1 --paths.train ./train.spacy --paths.dev ./train.spacy "
      ],
      "metadata": {
        "colab": {
          "base_uri": "https://localhost:8080/"
        },
        "id": "TnPELlYKZP7-",
        "outputId": "69f5b818-ded3-4f86-8320-9462574e3567"
      },
      "id": "TnPELlYKZP7-",
      "execution_count": null,
      "outputs": [
        {
          "output_type": "stream",
          "name": "stdout",
          "text": [
            "\u001b[38;5;2m✔ Created output directory: output1\u001b[0m\n",
            "\u001b[38;5;4mℹ Saving to output directory: output1\u001b[0m\n",
            "\u001b[38;5;4mℹ Using CPU\u001b[0m\n",
            "\u001b[1m\n",
            "=========================== Initializing pipeline ===========================\u001b[0m\n",
            "[2022-06-16 12:17:05,754] [INFO] Set up nlp object from config\n",
            "[2022-06-16 12:17:05,772] [INFO] Pipeline: ['tok2vec', 'ner']\n",
            "[2022-06-16 12:17:05,776] [INFO] Created vocabulary\n",
            "[2022-06-16 12:17:05,778] [INFO] Finished initializing nlp object\n",
            "[2022-06-16 12:17:05,944] [INFO] Initialized pipeline components: ['tok2vec', 'ner']\n",
            "\u001b[38;5;2m✔ Initialized pipeline\u001b[0m\n",
            "\u001b[1m\n",
            "============================= Training pipeline =============================\u001b[0m\n",
            "\u001b[38;5;4mℹ Pipeline: ['tok2vec', 'ner']\u001b[0m\n",
            "\u001b[38;5;4mℹ Initial learn rate: 0.001\u001b[0m\n",
            "E    #       LOSS TOK2VEC  LOSS NER  ENTS_F  ENTS_P  ENTS_R  SCORE \n",
            "---  ------  ------------  --------  ------  ------  ------  ------\n",
            "  0       0          0.00    104.61    0.00    0.00    0.00    0.00\n",
            "100     200      24824.05   4918.68    0.00    0.00    0.00    0.00\n",
            "200     400         15.50    600.16   28.57   50.00   20.00    0.29\n",
            "300     600         13.59    576.37   66.67   50.00  100.00    0.67\n",
            "400     800         11.18    576.98    0.00    0.00    0.00    0.00\n",
            "500    1000          9.49    570.63   66.67   50.00  100.00    0.67\n",
            "600    1200          8.64    565.11   54.55   50.00   60.00    0.55\n",
            "700    1400          7.54    556.19   66.67   50.00  100.00    0.67\n",
            "800    1600          8.69    559.31    0.00    0.00    0.00    0.00\n",
            "900    1800          7.18    549.28   66.67   50.00  100.00    0.67\n",
            "1028    2000          9.76    701.30   44.44   50.00   40.00    0.44\n",
            "1228    2200         24.06   1060.77   54.55   50.00   60.00    0.55\n",
            "\u001b[38;5;2m✔ Saved pipeline to output directory\u001b[0m\n",
            "output1/model-last\n"
          ]
        }
      ]
    },
    {
      "cell_type": "code",
      "source": [
        "eos = spacy.load(\"/content/output1/model-best\")\n",
        "with open('resume.txt',encoding='UTF-8') as f:\n",
        "  data = f.read()\n",
        "do = eos(data)\n",
        "for ent in do.ents:\n",
        "  print(ent.text + \"--->\", ent.label_)"
      ],
      "metadata": {
        "colab": {
          "base_uri": "https://localhost:8080/"
        },
        "id": "1WrWr4sbZeFg",
        "outputId": "305206db-758e-46e9-9922-9c3ce0a12544"
      },
      "id": "1WrWr4sbZeFg",
      "execution_count": null,
      "outputs": [
        {
          "output_type": "stream",
          "name": "stdout",
          "text": [
            "jafus martin woodbridge---> NAME\n",
            "certified specialist---> POSITION\n",
            "cisco vmware lan technologies---> EXPERIENCE\n",
            "aws certified solutions---> CERTIFICATION\n",
            "architect saa 2021---> CERTIFICATION\n"
          ]
        }
      ]
    },
    {
      "cell_type": "code",
      "source": [
        "colors = {'NAME': \"linear-gradient(90deg, #aa9cfc, #fc9ce7)\", \"POSITION\": \"#ff6961\",'EXPERIENCE': 'yellow','CERTIFICATION':'orange'}\n",
        "options = {\"ents\": ['NAME', 'POSITION','EXPERIENCE','CERTIFICATION'], \"colors\": colors}"
      ],
      "metadata": {
        "id": "_2KvXKHIeNe0"
      },
      "id": "_2KvXKHIeNe0",
      "execution_count": null,
      "outputs": []
    },
    {
      "cell_type": "code",
      "source": [
        "spacy.displacy.render(do, style=\"ent\", jupyter=True,options=options) # display in Jupyter\n",
        "f.close"
      ],
      "metadata": {
        "colab": {
          "base_uri": "https://localhost:8080/",
          "height": 385
        },
        "id": "X3ym2hQLbOK0",
        "outputId": "df6fed23-1750-4bd1-a39c-f1213396fa3d"
      },
      "id": "X3ym2hQLbOK0",
      "execution_count": null,
      "outputs": [
        {
          "output_type": "display_data",
          "data": {
            "text/plain": [
              "<IPython.core.display.HTML object>"
            ],
            "text/html": [
              "<span class=\"tex2jax_ignore\"><div class=\"entities\" style=\"line-height: 2.5; direction: ltr\">\n",
              "<mark class=\"entity\" style=\"background: linear-gradient(90deg, #aa9cfc, #fc9ce7); padding: 0.45em 0.6em; margin: 0 0.25em; line-height: 1; border-radius: 0.35em;\">\n",
              "    jafus martin woodbridge\n",
              "    <span style=\"font-size: 0.8em; font-weight: bold; line-height: 1; border-radius: 0.35em; vertical-align: middle; margin-left: 0.5rem\">NAME</span>\n",
              "</mark>\n",
              " va 22191 2259554406 j professional summary \n",
              "<mark class=\"entity\" style=\"background: #ff6961; padding: 0.45em 0.6em; margin: 0 0.25em; line-height: 1; border-radius: 0.35em;\">\n",
              "    certified specialist\n",
              "    <span style=\"font-size: 0.8em; font-weight: bold; line-height: 1; border-radius: 0.35em; vertical-align: middle; margin-left: 0.5rem\">POSITION</span>\n",
              "</mark>\n",
              " experience new existing network infrastructures combining experience \n",
              "<mark class=\"entity\" style=\"background: yellow; padding: 0.45em 0.6em; margin: 0 0.25em; line-height: 1; border-radius: 0.35em;\">\n",
              "    cisco vmware lan technologies\n",
              "    <span style=\"font-size: 0.8em; font-weight: bold; line-height: 1; border-radius: 0.35em; vertical-align: middle; margin-left: 0.5rem\">EXPERIENCE</span>\n",
              "</mark>\n",
              " microsoft provide exceptional support clients potential partners hold active tssci clearance full scope polygraph education certifications \n",
              "<mark class=\"entity\" style=\"background: orange; padding: 0.45em 0.6em; margin: 0 0.25em; line-height: 1; border-radius: 0.35em;\">\n",
              "    aws certified solutions\n",
              "    <span style=\"font-size: 0.8em; font-weight: bold; line-height: 1; border-radius: 0.35em; vertical-align: middle; margin-left: 0.5rem\">CERTIFICATION</span>\n",
              "</mark>\n",
              " \n",
              "<mark class=\"entity\" style=\"background: orange; padding: 0.45em 0.6em; margin: 0 0.25em; line-height: 1; border-radius: 0.35em;\">\n",
              "    architect saa 2021\n",
              "    <span style=\"font-size: 0.8em; font-weight: bold; line-height: 1; border-radius: 0.35em; vertical-align: middle; margin-left: 0.5rem\">CERTIFICATION</span>\n",
              "</mark>\n",
              " certified information systems security professional cissp 2020 cisco certified network administrator security ccnasec 2018 vmware certified professional 6 data center virtualization 2017 cisco certified network administrator ccna 2017 certificate network engineering rouge community college baton rouge certification 2014 professional experience hts infosys jacobs fns reston va firewall engineer june 2018 current manage shell scripts device updates network automation provides senior level network design implementation troubleshooting support multiplelseincuurxi tpyr oafnidci ennectwyo rk productsapplications including installation new hardware software provides technical support assistance client specialists plan coordinate implement network security measures review implementation tasks provide status back team lead project managers dai lyprogress apply software hardware standards analysis specification development integrat ionand acquisition network security systems information technology applications verma systems baton rouge la network engineer ii june 2016 june 2018 dbueliilvdeinrg e fmficainenagt icnlgou adn md imgraaintitoanins ifnrgo mth eo nneptwreomrke siinsf rsaesrtvriucecstu troe c alonudd ipnpflriacsattriounct cuorme upsoinnegn ctlso fuodr mveannyyu large clients maintain thorough understanding basics behind internet workings dns security ip routing http vpn email routing spam etc configure maintain virtualized environments esxi vmware etc configure setup cisco firewalls vpn security appliances access vital businessapplications</div></span>"
            ]
          },
          "metadata": {}
        },
        {
          "output_type": "execute_result",
          "data": {
            "text/plain": [
              "<function TextIOWrapper.close>"
            ]
          },
          "metadata": {},
          "execution_count": 56
        }
      ]
    },
    {
      "cell_type": "code",
      "source": [
        "import pandas as pd"
      ],
      "metadata": {
        "id": "bXEiePQTd90K"
      },
      "id": "bXEiePQTd90K",
      "execution_count": null,
      "outputs": []
    },
    {
      "cell_type": "code",
      "source": [
        "df = pd.read_csv('/content/CandidateData.csv')\n",
        "df.head()"
      ],
      "metadata": {
        "colab": {
          "base_uri": "https://localhost:8080/",
          "height": 206
        },
        "id": "2XHwzSc2EoEq",
        "outputId": "6d34c7ed-cc08-4441-db47-7f6a3c505b21"
      },
      "id": "2XHwzSc2EoEq",
      "execution_count": null,
      "outputs": [
        {
          "output_type": "execute_result",
          "data": {
            "text/plain": [
              "                 Name         Phone  \\\n",
              "0     Monte B. Wright  408-252-3243   \n",
              "1   Stacey C. Thomson  512-660-7561   \n",
              "2   Michael D. Medina  207-565-4748   \n",
              "3  Keith J. Vanwinkle  334-727-1524   \n",
              "4      William J. Law  317-598-3249   \n",
              "\n",
              "                              City, State, Zip                 EmailAddress  \\\n",
              "0      \\n 4364 Randolph StreetNatick, MA 01760     MonteBWright@armyspy.com   \n",
              "1           \\n 594 Valley LaneAustin, TX 78701   StaceyCThomson@teleworm.us   \n",
              "2      \\n 417 Bloomfield WayFranklin, ME 04634   MichaelDMedina@teleworm.us   \n",
              "3    \\n 2278 Franklin StreetTuskegee, AL 36083  KeithJVanwinkle@teleworm.us   \n",
              "4  \\n 4788 Barfield LaneIndianapolis, IN 46250      WilliamJLaw@armyspy.com   \n",
              "\n",
              "                Position  Experience  \n",
              "0  Marketing Coordinator           6  \n",
              "1        Project Manager           6  \n",
              "2           Web Designer           7  \n",
              "3      Account Executive           7  \n",
              "4              Developer           6  "
            ],
            "text/html": [
              "\n",
              "  <div id=\"df-6402a2f0-ecbf-4e13-88ce-69a6f8a03573\">\n",
              "    <div class=\"colab-df-container\">\n",
              "      <div>\n",
              "<style scoped>\n",
              "    .dataframe tbody tr th:only-of-type {\n",
              "        vertical-align: middle;\n",
              "    }\n",
              "\n",
              "    .dataframe tbody tr th {\n",
              "        vertical-align: top;\n",
              "    }\n",
              "\n",
              "    .dataframe thead th {\n",
              "        text-align: right;\n",
              "    }\n",
              "</style>\n",
              "<table border=\"1\" class=\"dataframe\">\n",
              "  <thead>\n",
              "    <tr style=\"text-align: right;\">\n",
              "      <th></th>\n",
              "      <th>Name</th>\n",
              "      <th>Phone</th>\n",
              "      <th>City, State, Zip</th>\n",
              "      <th>EmailAddress</th>\n",
              "      <th>Position</th>\n",
              "      <th>Experience</th>\n",
              "    </tr>\n",
              "  </thead>\n",
              "  <tbody>\n",
              "    <tr>\n",
              "      <th>0</th>\n",
              "      <td>Monte B. Wright</td>\n",
              "      <td>408-252-3243</td>\n",
              "      <td>\\n 4364 Randolph StreetNatick, MA 01760</td>\n",
              "      <td>MonteBWright@armyspy.com</td>\n",
              "      <td>Marketing Coordinator</td>\n",
              "      <td>6</td>\n",
              "    </tr>\n",
              "    <tr>\n",
              "      <th>1</th>\n",
              "      <td>Stacey C. Thomson</td>\n",
              "      <td>512-660-7561</td>\n",
              "      <td>\\n 594 Valley LaneAustin, TX 78701</td>\n",
              "      <td>StaceyCThomson@teleworm.us</td>\n",
              "      <td>Project Manager</td>\n",
              "      <td>6</td>\n",
              "    </tr>\n",
              "    <tr>\n",
              "      <th>2</th>\n",
              "      <td>Michael D. Medina</td>\n",
              "      <td>207-565-4748</td>\n",
              "      <td>\\n 417 Bloomfield WayFranklin, ME 04634</td>\n",
              "      <td>MichaelDMedina@teleworm.us</td>\n",
              "      <td>Web Designer</td>\n",
              "      <td>7</td>\n",
              "    </tr>\n",
              "    <tr>\n",
              "      <th>3</th>\n",
              "      <td>Keith J. Vanwinkle</td>\n",
              "      <td>334-727-1524</td>\n",
              "      <td>\\n 2278 Franklin StreetTuskegee, AL 36083</td>\n",
              "      <td>KeithJVanwinkle@teleworm.us</td>\n",
              "      <td>Account Executive</td>\n",
              "      <td>7</td>\n",
              "    </tr>\n",
              "    <tr>\n",
              "      <th>4</th>\n",
              "      <td>William J. Law</td>\n",
              "      <td>317-598-3249</td>\n",
              "      <td>\\n 4788 Barfield LaneIndianapolis, IN 46250</td>\n",
              "      <td>WilliamJLaw@armyspy.com</td>\n",
              "      <td>Developer</td>\n",
              "      <td>6</td>\n",
              "    </tr>\n",
              "  </tbody>\n",
              "</table>\n",
              "</div>\n",
              "      <button class=\"colab-df-convert\" onclick=\"convertToInteractive('df-6402a2f0-ecbf-4e13-88ce-69a6f8a03573')\"\n",
              "              title=\"Convert this dataframe to an interactive table.\"\n",
              "              style=\"display:none;\">\n",
              "        \n",
              "  <svg xmlns=\"http://www.w3.org/2000/svg\" height=\"24px\"viewBox=\"0 0 24 24\"\n",
              "       width=\"24px\">\n",
              "    <path d=\"M0 0h24v24H0V0z\" fill=\"none\"/>\n",
              "    <path d=\"M18.56 5.44l.94 2.06.94-2.06 2.06-.94-2.06-.94-.94-2.06-.94 2.06-2.06.94zm-11 1L8.5 8.5l.94-2.06 2.06-.94-2.06-.94L8.5 2.5l-.94 2.06-2.06.94zm10 10l.94 2.06.94-2.06 2.06-.94-2.06-.94-.94-2.06-.94 2.06-2.06.94z\"/><path d=\"M17.41 7.96l-1.37-1.37c-.4-.4-.92-.59-1.43-.59-.52 0-1.04.2-1.43.59L10.3 9.45l-7.72 7.72c-.78.78-.78 2.05 0 2.83L4 21.41c.39.39.9.59 1.41.59.51 0 1.02-.2 1.41-.59l7.78-7.78 2.81-2.81c.8-.78.8-2.07 0-2.86zM5.41 20L4 18.59l7.72-7.72 1.47 1.35L5.41 20z\"/>\n",
              "  </svg>\n",
              "      </button>\n",
              "      \n",
              "  <style>\n",
              "    .colab-df-container {\n",
              "      display:flex;\n",
              "      flex-wrap:wrap;\n",
              "      gap: 12px;\n",
              "    }\n",
              "\n",
              "    .colab-df-convert {\n",
              "      background-color: #E8F0FE;\n",
              "      border: none;\n",
              "      border-radius: 50%;\n",
              "      cursor: pointer;\n",
              "      display: none;\n",
              "      fill: #1967D2;\n",
              "      height: 32px;\n",
              "      padding: 0 0 0 0;\n",
              "      width: 32px;\n",
              "    }\n",
              "\n",
              "    .colab-df-convert:hover {\n",
              "      background-color: #E2EBFA;\n",
              "      box-shadow: 0px 1px 2px rgba(60, 64, 67, 0.3), 0px 1px 3px 1px rgba(60, 64, 67, 0.15);\n",
              "      fill: #174EA6;\n",
              "    }\n",
              "\n",
              "    [theme=dark] .colab-df-convert {\n",
              "      background-color: #3B4455;\n",
              "      fill: #D2E3FC;\n",
              "    }\n",
              "\n",
              "    [theme=dark] .colab-df-convert:hover {\n",
              "      background-color: #434B5C;\n",
              "      box-shadow: 0px 1px 3px 1px rgba(0, 0, 0, 0.15);\n",
              "      filter: drop-shadow(0px 1px 2px rgba(0, 0, 0, 0.3));\n",
              "      fill: #FFFFFF;\n",
              "    }\n",
              "  </style>\n",
              "\n",
              "      <script>\n",
              "        const buttonEl =\n",
              "          document.querySelector('#df-6402a2f0-ecbf-4e13-88ce-69a6f8a03573 button.colab-df-convert');\n",
              "        buttonEl.style.display =\n",
              "          google.colab.kernel.accessAllowed ? 'block' : 'none';\n",
              "\n",
              "        async function convertToInteractive(key) {\n",
              "          const element = document.querySelector('#df-6402a2f0-ecbf-4e13-88ce-69a6f8a03573');\n",
              "          const dataTable =\n",
              "            await google.colab.kernel.invokeFunction('convertToInteractive',\n",
              "                                                     [key], {});\n",
              "          if (!dataTable) return;\n",
              "\n",
              "          const docLinkHtml = 'Like what you see? Visit the ' +\n",
              "            '<a target=\"_blank\" href=https://colab.research.google.com/notebooks/data_table.ipynb>data table notebook</a>'\n",
              "            + ' to learn more about interactive tables.';\n",
              "          element.innerHTML = '';\n",
              "          dataTable['output_type'] = 'display_data';\n",
              "          await google.colab.output.renderOutput(dataTable, element);\n",
              "          const docLink = document.createElement('div');\n",
              "          docLink.innerHTML = docLinkHtml;\n",
              "          element.appendChild(docLink);\n",
              "        }\n",
              "      </script>\n",
              "    </div>\n",
              "  </div>\n",
              "  "
            ]
          },
          "metadata": {},
          "execution_count": 2
        }
      ]
    },
    {
      "cell_type": "code",
      "source": [
        "df['Position'][:10]"
      ],
      "metadata": {
        "colab": {
          "base_uri": "https://localhost:8080/"
        },
        "id": "6AiCOA3aEuIe",
        "outputId": "abd33e57-345d-4c9b-e40a-2a7b0f938516"
      },
      "id": "6AiCOA3aEuIe",
      "execution_count": null,
      "outputs": [
        {
          "output_type": "execute_result",
          "data": {
            "text/plain": [
              "0    Marketing Coordinator\n",
              "1          Project Manager\n",
              "2             Web Designer\n",
              "3        Account Executive\n",
              "4                Developer\n",
              "5          Devops Engineer\n",
              "6           Data Scientist\n",
              "7            Scrum Manager\n",
              "8    Marketing Coordinator\n",
              "9          Project Manager\n",
              "Name: Position, dtype: object"
            ]
          },
          "metadata": {},
          "execution_count": 4
        }
      ]
    },
    {
      "cell_type": "code",
      "source": [
        "\n",
        "import seaborn as sns"
      ],
      "metadata": {
        "id": "ol3arpw7E2tD"
      },
      "id": "ol3arpw7E2tD",
      "execution_count": null,
      "outputs": []
    },
    {
      "cell_type": "code",
      "source": [
        "sns.catplot(x=\"Experience\", kind=\"count\", palette=\"ch:.25\", data=df)"
      ],
      "metadata": {
        "colab": {
          "base_uri": "https://localhost:8080/",
          "height": 387
        },
        "id": "8lMr2gHvFSt5",
        "outputId": "b5c889a4-cade-42a6-8296-9a13ca85bec0"
      },
      "id": "8lMr2gHvFSt5",
      "execution_count": null,
      "outputs": [
        {
          "output_type": "execute_result",
          "data": {
            "text/plain": [
              "<seaborn.axisgrid.FacetGrid at 0x7fb6d1482590>"
            ]
          },
          "metadata": {},
          "execution_count": 15
        },
        {
          "output_type": "display_data",
          "data": {
            "text/plain": [
              "<Figure size 360x360 with 1 Axes>"
            ],
            "image/png": "[encoded data removed]"
          },
          "metadata": {
            "needs_background": "light"
          }
        }
      ]
    },
    {
      "cell_type": "code",
      "source": [
        "sns.catplot(y=\"Experience\", hue=\"Position\", kind=\"count\",\n",
        "            palette=\"pastel\", edgecolor=\".6\",\n",
        "            data=df)"
      ],
      "metadata": {
        "colab": {
          "base_uri": "https://localhost:8080/",
          "height": 387
        },
        "id": "D1_OTqhsF8Qv",
        "outputId": "637a8a40-5c9a-4b68-8eed-25c389d3dc58"
      },
      "id": "D1_OTqhsF8Qv",
      "execution_count": null,
      "outputs": [
        {
          "output_type": "execute_result",
          "data": {
            "text/plain": [
              "<seaborn.axisgrid.FacetGrid at 0x7fb6d136e590>"
            ]
          },
          "metadata": {},
          "execution_count": 17
        },
        {
          "output_type": "display_data",
          "data": {
            "text/plain": [
              "<Figure size 507.625x360 with 1 Axes>"
            ],
            "image/png": "[encoded data removed]"
          },
          "metadata": {
            "needs_background": "light"
          }
        }
      ]
    },
    {
      "cell_type": "code",
      "source": [
        "import matplotlib.pyplot as plt\n",
        "f, ax = plt.subplots(figsize=(7, 3))\n",
        "sns.countplot(y=\"Experience\", data=df, color=\"c\")"
      ],
      "metadata": {
        "colab": {
          "base_uri": "https://localhost:8080/",
          "height": 243
        },
        "id": "sAw6v2GYGLY4",
        "outputId": "aabfec25-0b36-4ab8-f6b2-24b7d150eadd"
      },
      "id": "sAw6v2GYGLY4",
      "execution_count": null,
      "outputs": [
        {
          "output_type": "execute_result",
          "data": {
            "text/plain": [
              "<matplotlib.axes._subplots.AxesSubplot at 0x7fb6d115b310>"
            ]
          },
          "metadata": {},
          "execution_count": 19
        },
        {
          "output_type": "display_data",
          "data": {
            "text/plain": [
              "<Figure size 504x216 with 1 Axes>"
            ],
            "image/png": "[encoded data removed]"
          },
          "metadata": {
            "needs_background": "light"
          }
        }
      ]
    },
    {
      "cell_type": "code",
      "source": [
        "sns.histplot(\n",
        "    data=df,\n",
        "    x=\"Experience\", hue=\"Position\",\n",
        "    multiple=\"fill\", stat=\"proportion\",\n",
        "    discrete=True, shrink=.8\n",
        ")"
      ],
      "metadata": {
        "colab": {
          "base_uri": "https://localhost:8080/",
          "height": 301
        },
        "id": "1CJbSdddGr8n",
        "outputId": "65b05ceb-e062-4de8-a3e6-5ee7b432f560"
      },
      "id": "1CJbSdddGr8n",
      "execution_count": null,
      "outputs": [
        {
          "output_type": "execute_result",
          "data": {
            "text/plain": [
              "<matplotlib.axes._subplots.AxesSubplot at 0x7fb6d0980450>"
            ]
          },
          "metadata": {},
          "execution_count": 23
        },
        {
          "output_type": "display_data",
          "data": {
            "text/plain": [
              "<Figure size 432x288 with 1 Axes>"
            ],
            "image/png": "[encoded data removed]"
          },
          "metadata": {
            "needs_background": "light"
          }
        }
      ]
    },
    {
      "cell_type": "code",
      "source": [
        "df.columns"
      ],
      "metadata": {
        "colab": {
          "base_uri": "https://localhost:8080/"
        },
        "id": "RqfXo1_bH5Va",
        "outputId": "11325f00-9225-4672-9992-f3b4fc1df45f"
      },
      "id": "RqfXo1_bH5Va",
      "execution_count": null,
      "outputs": [
        {
          "output_type": "execute_result",
          "data": {
            "text/plain": [
              "Index(['Name', 'Phone', 'City, State, Zip', 'EmailAddress', 'Position',\n",
              "       'Experience'],\n",
              "      dtype='object')"
            ]
          },
          "metadata": {},
          "execution_count": 24
        }
      ]
    },
    {
      "cell_type": "code",
      "source": [
        "!pip install catscatter"
      ],
      "metadata": {
        "colab": {
          "base_uri": "https://localhost:8080/"
        },
        "id": "j048POPaIFzF",
        "outputId": "b05673eb-bfd8-4f5d-e4bf-30eb270b2983"
      },
      "id": "j048POPaIFzF",
      "execution_count": null,
      "outputs": [
        {
          "output_type": "stream",
          "name": "stdout",
          "text": [
            "Looking in indexes: https://pypi.org/simple, https://us-python.pkg.dev/colab-wheels/public/simple/\n",
            "\u001b[31mERROR: Could not find a version that satisfies the requirement catscatter (from versions: none)\u001b[0m\n",
            "\u001b[31mERROR: No matching distribution found for catscatter\u001b[0m\n"
          ]
        }
      ]
    },
    {
      "cell_type": "code",
      "source": [
        "df.groupby('Position').size().plot(kind='pie', autopct='%.2f')\n"
      ],
      "metadata": {
        "colab": {
          "base_uri": "https://localhost:8080/",
          "height": 266
        },
        "id": "S6WLL34GHA38",
        "outputId": "28dc4dd6-327b-4bfe-ba88-1b767dc9cffa"
      },
      "id": "S6WLL34GHA38",
      "execution_count": null,
      "outputs": [
        {
          "output_type": "execute_result",
          "data": {
            "text/plain": [
              "<matplotlib.axes._subplots.AxesSubplot at 0x7fb6d1132190>"
            ]
          },
          "metadata": {},
          "execution_count": 28
        },
        {
          "output_type": "display_data",
          "data": {
            "text/plain": [
              "<Figure size 432x288 with 1 Axes>"
            ],
            "image/png": "[encoded data removed]"
          },
          "metadata": {}
        }
      ]
    }
  ],
  "metadata": {
    "kernelspec": {
      "display_name": "Python 3 (ipykernel)",
      "language": "python",
      "name": "python3"
    },
    "language_info": {
      "codemirror_mode": {
        "name": "ipython",
        "version": 3
      },
      "file_extension": ".py",
      "mimetype": "text/x-python",
      "name": "python",
      "nbconvert_exporter": "python",
      "pygments_lexer": "ipython3",
      "version": "3.9.12"
    },
    "colab": {
      "name": "Copy of POC.ipynb",
      "provenance": [],
      "include_colab_link": true
    }
  },
  "nbformat": 4,
  "nbformat_minor": 5
}