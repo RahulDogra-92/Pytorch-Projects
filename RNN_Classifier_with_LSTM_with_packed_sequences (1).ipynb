{
  "nbformat": 4,
  "nbformat_minor": 0,
  "metadata": {
    "colab": {
      "name": "RNN Classifier with LSTM with packed sequences",
      "provenance": [],
      "collapsed_sections": []
    },
    "kernelspec": {
      "display_name": "Python 3",
      "language": "python",
      "name": "python3"
    },
    "language_info": {
      "codemirror_mode": {
        "name": "ipython",
        "version": 3
      },
      "file_extension": ".py",
      "mimetype": "text/x-python",
      "name": "python",
      "nbconvert_exporter": "python",
      "pygments_lexer": "ipython3",
      "version": "3.8.8"
    }
  },
  "cells": [
    {
      "cell_type": "markdown",
      "metadata": {
        "id": "vY4SK0xKAJgm"
      },
      "source": [
        "# Same as 1_lstm.ipynb but with packed sequences"
      ]
    },
    {
      "cell_type": "code",
      "metadata": {
        "id": "moNmVfuvnImW"
      },
      "source": [
        "import torch\n",
        "import torch.nn.functional as F\n",
        "import torchtext\n",
        "import time\n",
        "import random\n",
        "import pandas as pd\n",
        "\n",
        "torch.backends.cudnn.deterministic = True"
      ],
      "execution_count": 1,
      "outputs": []
    },
    {
      "cell_type": "markdown",
      "metadata": {
        "id": "GSRL42Qgy8I8"
      },
      "source": [
        "## General Settings"
      ]
    },
    {
      "cell_type": "code",
      "metadata": {
        "id": "OvW1RgfepCBq"
      },
      "source": [
        "RANDOM_SEED = 123\n",
        "torch.manual_seed(RANDOM_SEED)\n",
        "\n",
        "VOCABULARY_SIZE = 20000\n",
        "LEARNING_RATE = 0.005\n",
        "BATCH_SIZE = 128\n",
        "NUM_EPOCHS = 15\n",
        "DEVICE = torch.device('cuda:2' if torch.cuda.is_available() else 'cpu')\n",
        "\n",
        "EMBEDDING_DIM = 128\n",
        "HIDDEN_DIM = 256\n",
        "NUM_CLASSES = 2"
      ],
      "execution_count": 2,
      "outputs": []
    },
    {
      "cell_type": "markdown",
      "metadata": {
        "id": "mQMmKUEisW4W"
      },
      "source": [
        "## Download Dataset"
      ]
    },
    {
      "cell_type": "markdown",
      "metadata": {
        "id": "le0uXmmIDUZQ"
      },
      "source": [
        "The following cells will download the IMDB movie review dataset (http://ai.stanford.edu/~amaas/data/sentiment/) for positive-negative sentiment classification in as CSV-formatted file:"
      ]
    },
    {
      "cell_type": "code",
      "metadata": {
        "colab": {
          "base_uri": "https://localhost:8080/"
        },
        "id": "EEJN8dVLDUZU",
        "outputId": "6c154314-d28e-4965-b60b-3492c7cc0cb3"
      },
      "source": [
        "!wget https://github.com/rasbt/python-machine-learning-book-3rd-edition/raw/master/ch08/movie_data.csv.gz"
      ],
      "execution_count": 3,
      "outputs": [
        {
          "output_type": "stream",
          "name": "stdout",
          "text": [
            "--2021-09-05 18:47:42--  https://github.com/rasbt/python-machine-learning-book-3rd-edition/raw/master/ch08/movie_data.csv.gz\n",
            "Resolving github.com (github.com)... 52.69.186.44\n",
            "Connecting to github.com (github.com)|52.69.186.44|:443... connected.\n",
            "HTTP request sent, awaiting response... 302 Found\n",
            "Location: https://raw.githubusercontent.com/rasbt/python-machine-learning-book-3rd-edition/master/ch08/movie_data.csv.gz [following]\n",
            "--2021-09-05 18:47:43--  https://raw.githubusercontent.com/rasbt/python-machine-learning-book-3rd-edition/master/ch08/movie_data.csv.gz\n",
            "Resolving raw.githubusercontent.com (raw.githubusercontent.com)... 185.199.108.133, 185.199.109.133, 185.199.110.133, ...\n",
            "Connecting to raw.githubusercontent.com (raw.githubusercontent.com)|185.199.108.133|:443... connected.\n",
            "HTTP request sent, awaiting response... 200 OK\n",
            "Length: 26521894 (25M) [application/octet-stream]\n",
            "Saving to: ‘movie_data.csv.gz’\n",
            "\n",
            "movie_data.csv.gz   100%[===================>]  25.29M   124MB/s    in 0.2s    \n",
            "\n",
            "2021-09-05 18:47:45 (124 MB/s) - ‘movie_data.csv.gz’ saved [26521894/26521894]\n",
            "\n"
          ]
        }
      ]
    },
    {
      "cell_type": "code",
      "metadata": {
        "id": "SDGUwkZqDUZZ"
      },
      "source": [
        "!gunzip -f movie_data.csv.gz "
      ],
      "execution_count": 4,
      "outputs": []
    },
    {
      "cell_type": "markdown",
      "metadata": {
        "id": "_fPUIQt2DUZa"
      },
      "source": [
        "Check that the dataset looks okay:"
      ]
    },
    {
      "cell_type": "code",
      "metadata": {
        "colab": {
          "base_uri": "https://localhost:8080/",
          "height": 205
        },
        "id": "VV4cRY6SDUZb",
        "outputId": "01e63dd8-2080-4ee8-d784-b9c48719cc15"
      },
      "source": [
        "df = pd.read_csv('movie_data.csv')\n",
        "df.head()"
      ],
      "execution_count": 5,
      "outputs": [
        {
          "output_type": "execute_result",
          "data": {
            "text/html": [
              "<div>\n",
              "<style scoped>\n",
              "    .dataframe tbody tr th:only-of-type {\n",
              "        vertical-align: middle;\n",
              "    }\n",
              "\n",
              "    .dataframe tbody tr th {\n",
              "        vertical-align: top;\n",
              "    }\n",
              "\n",
              "    .dataframe thead th {\n",
              "        text-align: right;\n",
              "    }\n",
              "</style>\n",
              "<table border=\"1\" class=\"dataframe\">\n",
              "  <thead>\n",
              "    <tr style=\"text-align: right;\">\n",
              "      <th></th>\n",
              "      <th>review</th>\n",
              "      <th>sentiment</th>\n",
              "    </tr>\n",
              "  </thead>\n",
              "  <tbody>\n",
              "    <tr>\n",
              "      <th>0</th>\n",
              "      <td>In 1974, the teenager Martha Moxley (Maggie Gr...</td>\n",
              "      <td>1</td>\n",
              "    </tr>\n",
              "    <tr>\n",
              "      <th>1</th>\n",
              "      <td>OK... so... I really like Kris Kristofferson a...</td>\n",
              "      <td>0</td>\n",
              "    </tr>\n",
              "    <tr>\n",
              "      <th>2</th>\n",
              "      <td>***SPOILER*** Do not read this, if you think a...</td>\n",
              "      <td>0</td>\n",
              "    </tr>\n",
              "    <tr>\n",
              "      <th>3</th>\n",
              "      <td>hi for all the people who have seen this wonde...</td>\n",
              "      <td>1</td>\n",
              "    </tr>\n",
              "    <tr>\n",
              "      <th>4</th>\n",
              "      <td>I recently bought the DVD, forgetting just how...</td>\n",
              "      <td>0</td>\n",
              "    </tr>\n",
              "  </tbody>\n",
              "</table>\n",
              "</div>"
            ],
            "text/plain": [
              "                                              review  sentiment\n",
              "0  In 1974, the teenager Martha Moxley (Maggie Gr...          1\n",
              "1  OK... so... I really like Kris Kristofferson a...          0\n",
              "2  ***SPOILER*** Do not read this, if you think a...          0\n",
              "3  hi for all the people who have seen this wonde...          1\n",
              "4  I recently bought the DVD, forgetting just how...          0"
            ]
          },
          "metadata": {},
          "execution_count": 5
        }
      ]
    },
    {
      "cell_type": "code",
      "metadata": {
        "colab": {
          "base_uri": "https://localhost:8080/",
          "height": 205
        },
        "id": "NWi4AjyDDUZd",
        "outputId": "e898f01a-37c4-472c-9623-a9a1229c36b6"
      },
      "source": [
        "df.columns = ['TEXT_COLUMN_NAME', 'LABEL_COLUMN_NAME']\n",
        "df.to_csv('movie_data.csv', index=None)\n",
        "\n",
        "df = pd.read_csv('movie_data.csv')\n",
        "df.head()"
      ],
      "execution_count": 6,
      "outputs": [
        {
          "output_type": "execute_result",
          "data": {
            "text/html": [
              "<div>\n",
              "<style scoped>\n",
              "    .dataframe tbody tr th:only-of-type {\n",
              "        vertical-align: middle;\n",
              "    }\n",
              "\n",
              "    .dataframe tbody tr th {\n",
              "        vertical-align: top;\n",
              "    }\n",
              "\n",
              "    .dataframe thead th {\n",
              "        text-align: right;\n",
              "    }\n",
              "</style>\n",
              "<table border=\"1\" class=\"dataframe\">\n",
              "  <thead>\n",
              "    <tr style=\"text-align: right;\">\n",
              "      <th></th>\n",
              "      <th>TEXT_COLUMN_NAME</th>\n",
              "      <th>LABEL_COLUMN_NAME</th>\n",
              "    </tr>\n",
              "  </thead>\n",
              "  <tbody>\n",
              "    <tr>\n",
              "      <th>0</th>\n",
              "      <td>In 1974, the teenager Martha Moxley (Maggie Gr...</td>\n",
              "      <td>1</td>\n",
              "    </tr>\n",
              "    <tr>\n",
              "      <th>1</th>\n",
              "      <td>OK... so... I really like Kris Kristofferson a...</td>\n",
              "      <td>0</td>\n",
              "    </tr>\n",
              "    <tr>\n",
              "      <th>2</th>\n",
              "      <td>***SPOILER*** Do not read this, if you think a...</td>\n",
              "      <td>0</td>\n",
              "    </tr>\n",
              "    <tr>\n",
              "      <th>3</th>\n",
              "      <td>hi for all the people who have seen this wonde...</td>\n",
              "      <td>1</td>\n",
              "    </tr>\n",
              "    <tr>\n",
              "      <th>4</th>\n",
              "      <td>I recently bought the DVD, forgetting just how...</td>\n",
              "      <td>0</td>\n",
              "    </tr>\n",
              "  </tbody>\n",
              "</table>\n",
              "</div>"
            ],
            "text/plain": [
              "                                    TEXT_COLUMN_NAME  LABEL_COLUMN_NAME\n",
              "0  In 1974, the teenager Martha Moxley (Maggie Gr...                  1\n",
              "1  OK... so... I really like Kris Kristofferson a...                  0\n",
              "2  ***SPOILER*** Do not read this, if you think a...                  0\n",
              "3  hi for all the people who have seen this wonde...                  1\n",
              "4  I recently bought the DVD, forgetting just how...                  0"
            ]
          },
          "metadata": {},
          "execution_count": 6
        }
      ]
    },
    {
      "cell_type": "code",
      "metadata": {
        "id": "wJWt3LpiDUZe"
      },
      "source": [
        "del df"
      ],
      "execution_count": 7,
      "outputs": []
    },
    {
      "cell_type": "markdown",
      "metadata": {
        "id": "EFYt9bOqDUZf"
      },
      "source": [
        "## Prepare Dataset with Torchtext"
      ]
    },
    {
      "cell_type": "code",
      "metadata": {
        "id": "EaFf-RoXDUZg"
      },
      "source": [
        "# !conda install spacy"
      ],
      "execution_count": 8,
      "outputs": []
    },
    {
      "cell_type": "markdown",
      "metadata": {
        "id": "wNZLNyswDUZg"
      },
      "source": [
        "Download English vocabulary via:\n",
        "    \n",
        "- `python -m spacy download en_core_web_sm`"
      ]
    },
    {
      "cell_type": "markdown",
      "metadata": {
        "id": "4GnH64XvsV8n"
      },
      "source": [
        "Define the Label and Text field formatters:"
      ]
    },
    {
      "cell_type": "code",
      "metadata": {
        "id": "WzK-9ZO1DUZi"
      },
      "source": [
        "### Defining the feature processing\n",
        "\n",
        "TEXT = torchtext.legacy.data.Field(\n",
        "    tokenize='spacy', # default splits on whitespace\n",
        "    tokenizer_language='en_core_web_sm',\n",
        "    include_lengths=True # NEW\n",
        ")\n",
        "\n",
        "### Defining the label processing\n",
        "\n",
        "LABEL = torchtext.legacy.data.LabelField(dtype=torch.long)"
      ],
      "execution_count": 9,
      "outputs": []
    },
    {
      "cell_type": "markdown",
      "metadata": {
        "id": "iunDulTcDUZk"
      },
      "source": [
        "Process the dataset:"
      ]
    },
    {
      "cell_type": "code",
      "metadata": {
        "id": "wEbrRpjEDUZk"
      },
      "source": [
        "fields = [('TEXT_COLUMN_NAME', TEXT), ('LABEL_COLUMN_NAME', LABEL)]\n",
        "\n",
        "dataset = torchtext.legacy.data.TabularDataset(\n",
        "    path='movie_data.csv', format='csv',\n",
        "    skip_header=True, fields=fields)"
      ],
      "execution_count": 10,
      "outputs": []
    },
    {
      "cell_type": "markdown",
      "metadata": {
        "id": "MLOcLXP0DUZl"
      },
      "source": [
        "## Split Dataset into Train/Validation/Test"
      ]
    },
    {
      "cell_type": "markdown",
      "metadata": {
        "id": "w6ddSYt5DUZm"
      },
      "source": [
        "Split the dataset into training, validation, and test partitions:"
      ]
    },
    {
      "cell_type": "code",
      "metadata": {
        "colab": {
          "base_uri": "https://localhost:8080/"
        },
        "id": "WZ_4jiHVnMxN",
        "outputId": "1c7c8ae7-54e2-48f3-c30c-3297e0f53012"
      },
      "source": [
        "train_data, test_data = dataset.split(\n",
        "    split_ratio=[0.8, 0.2],\n",
        "    random_state=random.seed(RANDOM_SEED))\n",
        "\n",
        "print(f'Num Train: {len(train_data)}')\n",
        "print(f'Num Test: {len(test_data)}')"
      ],
      "execution_count": 11,
      "outputs": [
        {
          "output_type": "stream",
          "name": "stdout",
          "text": [
            "Num Train: 40000\n",
            "Num Test: 10000\n"
          ]
        }
      ]
    },
    {
      "cell_type": "code",
      "metadata": {
        "colab": {
          "base_uri": "https://localhost:8080/"
        },
        "id": "LCUaDDQJDUZn",
        "outputId": "862bc63a-70e0-4048-d2a0-29be594f10b9"
      },
      "source": [
        "train_data, valid_data = train_data.split(\n",
        "    split_ratio=[0.85, 0.15],\n",
        "    random_state=random.seed(RANDOM_SEED))\n",
        "\n",
        "print(f'Num Train: {len(train_data)}')\n",
        "print(f'Num Validation: {len(valid_data)}')"
      ],
      "execution_count": 12,
      "outputs": [
        {
          "output_type": "stream",
          "name": "stdout",
          "text": [
            "Num Train: 34000\n",
            "Num Validation: 6000\n"
          ]
        }
      ]
    },
    {
      "cell_type": "code",
      "metadata": {
        "colab": {
          "base_uri": "https://localhost:8080/"
        },
        "id": "JKgEb5g_DUZo",
        "outputId": "fe9457d9-fde4-4799-8f9d-bb7162b8f517"
      },
      "source": [
        "print(vars(train_data.examples[0]))"
      ],
      "execution_count": 13,
      "outputs": [
        {
          "output_type": "stream",
          "name": "stdout",
          "text": [
            "{'TEXT_COLUMN_NAME': ['For', 'some', 'unknown', 'reason', ',', '7', 'years', 'ago', ',', 'I', 'watched', 'this', 'movie', 'with', 'my', 'mother', 'and', 'sister', '.', 'I', 'do', \"n't\", 'think', 'I', \"'ve\", 'ever', 'laughed', 'as', 'hard', 'with', 'them', 'before', '.', 'This', 'movie', 'was', 'sooooo', 'bad', '.', 'How', 'sequels', 'were', 'produced', 'is', 'beyond', 'me', '.', 'Its', 'been', 'awhile', 'since', 'I', 'last', 'saw', 'this', '\"', 'movie', '\"', ',', 'but', 'the', 'one', 'impression', 'that', 'it', 'has', 'stuck', 'with', 'me', 'over', 'the', 'years', 'has', 'been', ',', '\"', 'They', 'must', 'have', 'found', 'the', 'script', 'in', 'a', 'dumpster', 'in', 'the', 'backlot', 'of', 'a', 'cheap', 'movie', 'studio', ',', 'made', 'into', 'a', '\"', 'movie', '\"', ',', 'and', 'decided', 'that', 'it', 'did', \"n't\", 'suck', 'enough', ',', 'and', 'made', 'it', 'worse', '.', 'I', \"'m\", 'pretty', 'sure', 'that', 'they', 'spent', 'all', 'the', 'budget', 'on', 'camera', 'work', 'and', 'the', 'so', 'called', '\"', 'special', 'effects', '\"', ',', 'and', 'then', 'had', '13', 'cents', 'left', 'toward', 'the', 'script', 'AND', 'to', 'pay', 'the', '\"', 'actors', '\"', '.'], 'LABEL_COLUMN_NAME': '0'}\n"
          ]
        }
      ]
    },
    {
      "cell_type": "markdown",
      "metadata": {
        "id": "Kid-ELezDUZp"
      },
      "source": [
        "## Build Vocabulary"
      ]
    },
    {
      "cell_type": "markdown",
      "metadata": {
        "id": "L-TBwKWPslPa"
      },
      "source": [
        "Build the vocabulary based on the top \"VOCABULARY_SIZE\" words:"
      ]
    },
    {
      "cell_type": "code",
      "metadata": {
        "colab": {
          "base_uri": "https://localhost:8080/"
        },
        "id": "e8uNrjdtn4A8",
        "outputId": "d8a139f1-c0d2-4cfe-bbcb-5a4e5c850348"
      },
      "source": [
        "TEXT.build_vocab(train_data, max_size=VOCABULARY_SIZE)\n",
        "LABEL.build_vocab(train_data)\n",
        "\n",
        "print(f'Vocabulary size: {len(TEXT.vocab)}')\n",
        "print(f'Number of classes: {len(LABEL.vocab)}')"
      ],
      "execution_count": 14,
      "outputs": [
        {
          "output_type": "stream",
          "name": "stdout",
          "text": [
            "Vocabulary size: 20002\n",
            "Number of classes: 2\n"
          ]
        }
      ]
    },
    {
      "cell_type": "markdown",
      "metadata": {
        "id": "Zj-o1p3KDUZr"
      },
      "source": [
        "- 25,002 not 25,000 because of the `<unk>` and `<pad>` tokens\n",
        "- PyTorch RNNs can deal with arbitrary lengths due to dynamic graphs, but padding is necessary for padding sequences to the same length in a given minibatch so we can store those in an array"
      ]
    },
    {
      "cell_type": "markdown",
      "metadata": {
        "id": "xqmWq4K3DUZr"
      },
      "source": [
        "**Look at most common words:**"
      ]
    },
    {
      "cell_type": "code",
      "metadata": {
        "colab": {
          "base_uri": "https://localhost:8080/"
        },
        "id": "udbpInWYDUZr",
        "outputId": "463edba7-39ed-4acb-aab6-6aa34ef3a788"
      },
      "source": [
        "print(TEXT.vocab.freqs.most_common(20))"
      ],
      "execution_count": 15,
      "outputs": [
        {
          "output_type": "stream",
          "name": "stdout",
          "text": [
            "[('the', 391539), (',', 370979), ('.', 319457), ('and', 210723), ('a', 210397), ('of', 194700), ('to', 180225), ('is', 145689), ('in', 118828), ('I', 105650), ('it', 103414), ('that', 93700), ('\"', 86160), (\"'s\", 83067), ('this', 81421), ('-', 70842), ('/><br', 68865), ('was', 67523), ('as', 57974), ('with', 57558)]\n"
          ]
        }
      ]
    },
    {
      "cell_type": "markdown",
      "metadata": {
        "id": "liBne9nhDUZt"
      },
      "source": [
        "**Tokens corresponding to the first 10 indices (0, 1, ..., 9):**"
      ]
    },
    {
      "cell_type": "code",
      "metadata": {
        "colab": {
          "base_uri": "https://localhost:8080/"
        },
        "id": "8-0lFnEUDUZt",
        "outputId": "a79ae6b0-910e-4947-fe15-135a29b83f58"
      },
      "source": [
        "print(TEXT.vocab.itos[:10]) # itos = integer-to-string"
      ],
      "execution_count": 16,
      "outputs": [
        {
          "output_type": "stream",
          "name": "stdout",
          "text": [
            "['<unk>', '<pad>', 'the', ',', '.', 'and', 'a', 'of', 'to', 'is']\n"
          ]
        }
      ]
    },
    {
      "cell_type": "markdown",
      "metadata": {
        "id": "zEu3cCJEDUZu"
      },
      "source": [
        "**Converting a string to an integer:**"
      ]
    },
    {
      "cell_type": "code",
      "metadata": {
        "colab": {
          "base_uri": "https://localhost:8080/"
        },
        "id": "ACXXbhAQDUZu",
        "outputId": "a287c82a-13dd-43e3-db30-bc9d319ca54f"
      },
      "source": [
        "print(TEXT.vocab.stoi['the']) # stoi = string-to-integer"
      ],
      "execution_count": 17,
      "outputs": [
        {
          "output_type": "stream",
          "name": "stdout",
          "text": [
            "2\n"
          ]
        }
      ]
    },
    {
      "cell_type": "markdown",
      "metadata": {
        "id": "4n472zOLDUZv"
      },
      "source": [
        "**Class labels:**"
      ]
    },
    {
      "cell_type": "code",
      "metadata": {
        "colab": {
          "base_uri": "https://localhost:8080/"
        },
        "id": "gK1aqDVrDUZv",
        "outputId": "b1a6c3b4-2904-457c-f576-fed1446cefe2"
      },
      "source": [
        "print(LABEL.vocab.stoi)"
      ],
      "execution_count": 18,
      "outputs": [
        {
          "output_type": "stream",
          "name": "stdout",
          "text": [
            "defaultdict(None, {'1': 0, '0': 1})\n"
          ]
        }
      ]
    },
    {
      "cell_type": "markdown",
      "metadata": {
        "id": "_Cm9B0YMDUZw"
      },
      "source": [
        "**Class label count:**"
      ]
    },
    {
      "cell_type": "code",
      "metadata": {
        "colab": {
          "base_uri": "https://localhost:8080/"
        },
        "id": "YUEjZc73DUZw",
        "outputId": "50c44d79-c078-45b5-ffb0-1869cb393606"
      },
      "source": [
        "LABEL.vocab.freqs"
      ],
      "execution_count": 19,
      "outputs": [
        {
          "output_type": "execute_result",
          "data": {
            "text/plain": [
              "Counter({'0': 16981, '1': 17019})"
            ]
          },
          "metadata": {},
          "execution_count": 19
        }
      ]
    },
    {
      "cell_type": "markdown",
      "metadata": {
        "id": "eIQ_zfKLwjKm"
      },
      "source": [
        "## Define Data Loaders"
      ]
    },
    {
      "cell_type": "code",
      "metadata": {
        "id": "i7JiHR1stHNF"
      },
      "source": [
        "train_loader, valid_loader, test_loader = \\\n",
        "    torchtext.legacy.data.BucketIterator.splits(\n",
        "        (train_data, valid_data, test_data), \n",
        "        batch_size=BATCH_SIZE,\n",
        "        sort_within_batch=True, # NEW. necessary for packed_padded_sequence\n",
        "             sort_key=lambda x: len(x.TEXT_COLUMN_NAME),\n",
        "        device=DEVICE\n",
        ")"
      ],
      "execution_count": 20,
      "outputs": []
    },
    {
      "cell_type": "markdown",
      "metadata": {
        "id": "R0pT_dMRvicQ"
      },
      "source": [
        "Testing the iterators (note that the number of rows depends on the longest document in the respective batch):"
      ]
    },
    {
      "cell_type": "code",
      "metadata": {
        "colab": {
          "base_uri": "https://localhost:8080/"
        },
        "id": "y8SP_FccutT0",
        "outputId": "018b9628-18fa-43e4-be26-f9df39f2a19d"
      },
      "source": [
        "print('Train')\n",
        "for batch in train_loader:\n",
        "    print(f'Text matrix size: {batch.TEXT_COLUMN_NAME[0].size()}')\n",
        "    print(f'Target vector size: {batch.LABEL_COLUMN_NAME.size()}')\n",
        "    break\n",
        "    \n",
        "print('\\nValid:')\n",
        "for batch in valid_loader:\n",
        "    print(f'Text matrix size: {batch.TEXT_COLUMN_NAME[0].size()}')\n",
        "    print(f'Target vector size: {batch.LABEL_COLUMN_NAME.size()}')\n",
        "    break\n",
        "    \n",
        "print('\\nTest:')\n",
        "for batch in test_loader:\n",
        "    print(f'Text matrix size: {batch.TEXT_COLUMN_NAME[0].size()}')\n",
        "    print(f'Target vector size: {batch.LABEL_COLUMN_NAME.size()}')\n",
        "    break"
      ],
      "execution_count": 21,
      "outputs": [
        {
          "output_type": "stream",
          "name": "stdout",
          "text": [
            "Train\n",
            "Text matrix size: torch.Size([251, 128])\n",
            "Target vector size: torch.Size([128])\n",
            "\n",
            "Valid:\n",
            "Text matrix size: torch.Size([55, 128])\n",
            "Target vector size: torch.Size([128])\n",
            "\n",
            "Test:\n",
            "Text matrix size: torch.Size([52, 128])\n",
            "Target vector size: torch.Size([128])\n"
          ]
        }
      ]
    },
    {
      "cell_type": "markdown",
      "metadata": {
        "id": "G_grdW3pxCzz"
      },
      "source": [
        "## Model"
      ]
    },
    {
      "cell_type": "code",
      "metadata": {
        "id": "nQIUm5EjxFNa"
      },
      "source": [
        "class RNN(torch.nn.Module):\n",
        "    \n",
        "    def __init__(self, input_dim, embedding_dim, hidden_dim, output_dim):\n",
        "        super().__init__()\n",
        "\n",
        "        self.embedding = torch.nn.Embedding(input_dim, embedding_dim)\n",
        "        #self.rnn = torch.nn.RNN(embedding_dim,\n",
        "        #                        hidden_dim,\n",
        "        #                        nonlinearity='relu')\n",
        "        self.rnn = torch.nn.LSTM(embedding_dim,\n",
        "                                 hidden_dim)        \n",
        "        \n",
        "        self.fc = torch.nn.Linear(hidden_dim, output_dim)\n",
        "        \n",
        "\n",
        "    def forward(self, text, text_length):\n",
        "        # text dim: [sentence length, batch size]\n",
        "        \n",
        "        embedded = self.embedding(text)\n",
        "        # ebedded dim: [sentence length, batch size, embedding dim]\n",
        "        \n",
        "        ## NEW\n",
        "        packed = torch.nn.utils.rnn.pack_padded_sequence(embedded, text_length.to('cpu'))\n",
        "        \n",
        "        packed_output, (hidden, cell) = self.rnn(embedded)\n",
        "        # output dim: [sentence length, batch size, hidden dim]\n",
        "        # hidden dim: [1, batch size, hidden dim]\n",
        "\n",
        "        hidden.squeeze_(0)\n",
        "        # hidden dim: [batch size, hidden dim]\n",
        "        \n",
        "        output = self.fc(hidden)\n",
        "        return output"
      ],
      "execution_count": 22,
      "outputs": []
    },
    {
      "cell_type": "code",
      "metadata": {
        "id": "Ik3NF3faxFmZ"
      },
      "source": [
        "torch.manual_seed(RANDOM_SEED)\n",
        "model = RNN(input_dim=len(TEXT.vocab),\n",
        "            embedding_dim=EMBEDDING_DIM,\n",
        "            hidden_dim=HIDDEN_DIM,\n",
        "            output_dim=NUM_CLASSES # could use 1 for binary classification\n",
        ")\n",
        "\n",
        "model = model.to(DEVICE)\n",
        "optimizer = torch.optim.Adam(model.parameters(), lr=0.005)"
      ],
      "execution_count": 23,
      "outputs": []
    },
    {
      "cell_type": "markdown",
      "metadata": {
        "id": "Lv9Ny9di6VcI"
      },
      "source": [
        "## Training"
      ]
    },
    {
      "cell_type": "code",
      "metadata": {
        "id": "T5t1Afn4xO11"
      },
      "source": [
        "def compute_accuracy(model, data_loader, device):\n",
        "\n",
        "    with torch.no_grad():\n",
        "\n",
        "        correct_pred, num_examples = 0, 0\n",
        "\n",
        "        for batch_idx, batch_data in enumerate(data_loader):\n",
        "\n",
        "            # NEW\n",
        "            features, text_length = batch_data.TEXT_COLUMN_NAME\n",
        "            targets = batch_data.LABEL_COLUMN_NAME.to(DEVICE)\n",
        "            \n",
        "            logits = model(features, text_length)\n",
        "            _, predicted_labels = torch.max(logits, 1)\n",
        "\n",
        "            num_examples += targets.size(0)\n",
        "\n",
        "            correct_pred += (predicted_labels == targets).sum()\n",
        "    return correct_pred.float()/num_examples * 100"
      ],
      "execution_count": 24,
      "outputs": []
    },
    {
      "cell_type": "code",
      "metadata": {
        "colab": {
          "base_uri": "https://localhost:8080/"
        },
        "id": "EABZM8Vo0ilB",
        "outputId": "7d38a80b-41a5-4847-913e-83634fbdf9ee"
      },
      "source": [
        "start_time = time.time()\n",
        "\n",
        "for epoch in range(NUM_EPOCHS):\n",
        "    model.train()\n",
        "    for batch_idx, batch_data in enumerate(train_loader):\n",
        "        \n",
        "        # NEW\n",
        "        features, text_length = batch_data.TEXT_COLUMN_NAME\n",
        "        labels = batch_data.LABEL_COLUMN_NAME.to(DEVICE)\n",
        "\n",
        "        ### FORWARD AND BACK PROP\n",
        "        logits = model(features, text_length)\n",
        "        loss = F.cross_entropy(logits, labels)\n",
        "        optimizer.zero_grad()\n",
        "        \n",
        "        loss.backward()\n",
        "        \n",
        "        ### UPDATE MODEL PARAMETERS\n",
        "        optimizer.step()\n",
        "        \n",
        "        ### LOGGING\n",
        "        if not batch_idx % 50:\n",
        "            print (f'Epoch: {epoch+1:03d}/{NUM_EPOCHS:03d} | '\n",
        "                   f'Batch {batch_idx:03d}/{len(train_loader):03d} | '\n",
        "                   f'Loss: {loss:.4f}')\n",
        "\n",
        "    with torch.set_grad_enabled(False):\n",
        "        print(f'training accuracy: '\n",
        "              f'{compute_accuracy(model, train_loader, DEVICE):.2f}%'\n",
        "              f'\\nvalid accuracy: '\n",
        "              f'{compute_accuracy(model, valid_loader, DEVICE):.2f}%')\n",
        "        \n",
        "    print(f'Time elapsed: {(time.time() - start_time)/60:.2f} min')\n",
        "    \n",
        "print(f'Total Training Time: {(time.time() - start_time)/60:.2f} min')\n",
        "print(f'Test accuracy: {compute_accuracy(model, test_loader, DEVICE):.2f}%')"
      ],
      "execution_count": 25,
      "outputs": [
        {
          "output_type": "stream",
          "name": "stdout",
          "text": [
            "Epoch: 001/015 | Batch 000/266 | Loss: 0.7129\n",
            "Epoch: 001/015 | Batch 050/266 | Loss: 0.6875\n",
            "Epoch: 001/015 | Batch 100/266 | Loss: 0.7055\n",
            "Epoch: 001/015 | Batch 150/266 | Loss: 0.7219\n",
            "Epoch: 001/015 | Batch 200/266 | Loss: 0.6818\n",
            "Epoch: 001/015 | Batch 250/266 | Loss: 0.6446\n",
            "training accuracy: 70.94%\n",
            "valid accuracy: 68.85%\n",
            "Time elapsed: 44.32 min\n",
            "Epoch: 002/015 | Batch 000/266 | Loss: 0.5650\n",
            "Epoch: 002/015 | Batch 050/266 | Loss: 0.4593\n",
            "Epoch: 002/015 | Batch 100/266 | Loss: 0.4117\n",
            "Epoch: 002/015 | Batch 150/266 | Loss: 0.3306\n",
            "Epoch: 002/015 | Batch 200/266 | Loss: 0.2700\n",
            "Epoch: 002/015 | Batch 250/266 | Loss: 0.1833\n",
            "training accuracy: 92.12%\n",
            "valid accuracy: 88.68%\n",
            "Time elapsed: 56.32 min\n",
            "Epoch: 003/015 | Batch 000/266 | Loss: 0.2403\n",
            "Epoch: 003/015 | Batch 050/266 | Loss: 0.1935\n",
            "Epoch: 003/015 | Batch 100/266 | Loss: 0.1730\n",
            "Epoch: 003/015 | Batch 150/266 | Loss: 0.2206\n",
            "Epoch: 003/015 | Batch 200/266 | Loss: 0.2097\n",
            "Epoch: 003/015 | Batch 250/266 | Loss: 0.2275\n",
            "training accuracy: 95.69%\n",
            "valid accuracy: 89.77%\n",
            "Time elapsed: 68.26 min\n",
            "Epoch: 004/015 | Batch 000/266 | Loss: 0.1229\n",
            "Epoch: 004/015 | Batch 050/266 | Loss: 0.0804\n",
            "Epoch: 004/015 | Batch 100/266 | Loss: 0.1245\n",
            "Epoch: 004/015 | Batch 150/266 | Loss: 0.1508\n",
            "Epoch: 004/015 | Batch 200/266 | Loss: 0.0890\n",
            "Epoch: 004/015 | Batch 250/266 | Loss: 0.0422\n",
            "training accuracy: 97.70%\n",
            "valid accuracy: 89.87%\n",
            "Time elapsed: 80.28 min\n",
            "Epoch: 005/015 | Batch 000/266 | Loss: 0.1074\n",
            "Epoch: 005/015 | Batch 050/266 | Loss: 0.0583\n",
            "Epoch: 005/015 | Batch 100/266 | Loss: 0.1009\n",
            "Epoch: 005/015 | Batch 150/266 | Loss: 0.0563\n",
            "Epoch: 005/015 | Batch 200/266 | Loss: 0.0602\n",
            "Epoch: 005/015 | Batch 250/266 | Loss: 0.0896\n",
            "training accuracy: 98.52%\n",
            "valid accuracy: 90.20%\n",
            "Time elapsed: 92.27 min\n",
            "Epoch: 006/015 | Batch 000/266 | Loss: 0.0316\n",
            "Epoch: 006/015 | Batch 050/266 | Loss: 0.0415\n",
            "Epoch: 006/015 | Batch 100/266 | Loss: 0.0346\n",
            "Epoch: 006/015 | Batch 150/266 | Loss: 0.0586\n",
            "Epoch: 006/015 | Batch 200/266 | Loss: 0.0253\n",
            "Epoch: 006/015 | Batch 250/266 | Loss: 0.1198\n",
            "training accuracy: 99.27%\n",
            "valid accuracy: 90.30%\n",
            "Time elapsed: 104.23 min\n",
            "Epoch: 007/015 | Batch 000/266 | Loss: 0.0600\n",
            "Epoch: 007/015 | Batch 050/266 | Loss: 0.0210\n",
            "Epoch: 007/015 | Batch 100/266 | Loss: 0.0070\n",
            "Epoch: 007/015 | Batch 150/266 | Loss: 0.0315\n",
            "Epoch: 007/015 | Batch 200/266 | Loss: 0.0079\n",
            "Epoch: 007/015 | Batch 250/266 | Loss: 0.0790\n",
            "training accuracy: 99.29%\n",
            "valid accuracy: 89.98%\n",
            "Time elapsed: 116.50 min\n",
            "Epoch: 008/015 | Batch 000/266 | Loss: 0.0824\n",
            "Epoch: 008/015 | Batch 050/266 | Loss: 0.0179\n",
            "Epoch: 008/015 | Batch 100/266 | Loss: 0.0087\n",
            "Epoch: 008/015 | Batch 150/266 | Loss: 0.0918\n",
            "Epoch: 008/015 | Batch 200/266 | Loss: 0.0095\n",
            "Epoch: 008/015 | Batch 250/266 | Loss: 0.0415\n",
            "training accuracy: 99.57%\n",
            "valid accuracy: 90.12%\n",
            "Time elapsed: 128.52 min\n",
            "Epoch: 009/015 | Batch 000/266 | Loss: 0.0036\n",
            "Epoch: 009/015 | Batch 050/266 | Loss: 0.0042\n",
            "Epoch: 009/015 | Batch 100/266 | Loss: 0.0123\n",
            "Epoch: 009/015 | Batch 150/266 | Loss: 0.0803\n",
            "Epoch: 009/015 | Batch 200/266 | Loss: 0.0301\n",
            "Epoch: 009/015 | Batch 250/266 | Loss: 0.0099\n",
            "training accuracy: 99.38%\n",
            "valid accuracy: 90.03%\n",
            "Time elapsed: 140.79 min\n",
            "Epoch: 010/015 | Batch 000/266 | Loss: 0.0132\n",
            "Epoch: 010/015 | Batch 050/266 | Loss: 0.0598\n",
            "Epoch: 010/015 | Batch 100/266 | Loss: 0.0608\n",
            "Epoch: 010/015 | Batch 150/266 | Loss: 0.0388\n",
            "Epoch: 010/015 | Batch 200/266 | Loss: 0.0112\n",
            "Epoch: 010/015 | Batch 250/266 | Loss: 0.0104\n",
            "training accuracy: 99.54%\n",
            "valid accuracy: 90.00%\n",
            "Time elapsed: 153.03 min\n",
            "Epoch: 011/015 | Batch 000/266 | Loss: 0.0617\n",
            "Epoch: 011/015 | Batch 050/266 | Loss: 0.0531\n",
            "Epoch: 011/015 | Batch 100/266 | Loss: 0.0589\n",
            "Epoch: 011/015 | Batch 150/266 | Loss: 0.0474\n",
            "Epoch: 011/015 | Batch 200/266 | Loss: 0.0030\n",
            "Epoch: 011/015 | Batch 250/266 | Loss: 0.0073\n",
            "training accuracy: 99.50%\n",
            "valid accuracy: 89.83%\n",
            "Time elapsed: 165.11 min\n",
            "Epoch: 012/015 | Batch 000/266 | Loss: 0.0048\n",
            "Epoch: 012/015 | Batch 050/266 | Loss: 0.0025\n",
            "Epoch: 012/015 | Batch 100/266 | Loss: 0.0229\n",
            "Epoch: 012/015 | Batch 150/266 | Loss: 0.0014\n",
            "Epoch: 012/015 | Batch 200/266 | Loss: 0.0947\n",
            "Epoch: 012/015 | Batch 250/266 | Loss: 0.0083\n",
            "training accuracy: 99.58%\n",
            "valid accuracy: 89.93%\n",
            "Time elapsed: 177.39 min\n",
            "Epoch: 013/015 | Batch 000/266 | Loss: 0.0411\n",
            "Epoch: 013/015 | Batch 050/266 | Loss: 0.0097\n",
            "Epoch: 013/015 | Batch 100/266 | Loss: 0.0021\n",
            "Epoch: 013/015 | Batch 150/266 | Loss: 0.0346\n",
            "Epoch: 013/015 | Batch 200/266 | Loss: 0.0015\n",
            "Epoch: 013/015 | Batch 250/266 | Loss: 0.0284\n",
            "training accuracy: 99.86%\n",
            "valid accuracy: 89.98%\n",
            "Time elapsed: 189.48 min\n",
            "Epoch: 014/015 | Batch 000/266 | Loss: 0.0011\n",
            "Epoch: 014/015 | Batch 050/266 | Loss: 0.0012\n",
            "Epoch: 014/015 | Batch 100/266 | Loss: 0.0013\n",
            "Epoch: 014/015 | Batch 150/266 | Loss: 0.0249\n",
            "Epoch: 014/015 | Batch 200/266 | Loss: 0.0189\n",
            "Epoch: 014/015 | Batch 250/266 | Loss: 0.0089\n",
            "training accuracy: 99.60%\n",
            "valid accuracy: 90.23%\n",
            "Time elapsed: 201.71 min\n",
            "Epoch: 015/015 | Batch 000/266 | Loss: 0.0065\n",
            "Epoch: 015/015 | Batch 050/266 | Loss: 0.0027\n",
            "Epoch: 015/015 | Batch 100/266 | Loss: 0.0031\n",
            "Epoch: 015/015 | Batch 150/266 | Loss: 0.0122\n",
            "Epoch: 015/015 | Batch 200/266 | Loss: 0.0231\n",
            "Epoch: 015/015 | Batch 250/266 | Loss: 0.0445\n",
            "training accuracy: 99.67%\n",
            "valid accuracy: 89.68%\n",
            "Time elapsed: 214.05 min\n",
            "Total Training Time: 214.05 min\n",
            "Test accuracy: 89.26%\n"
          ]
        }
      ]
    },
    {
      "cell_type": "code",
      "metadata": {
        "colab": {
          "base_uri": "https://localhost:8080/"
        },
        "id": "GcVo00eDDUZ1",
        "outputId": "b59d78a0-02e7-41ed-911f-1e4d080adb53"
      },
      "source": [
        "print(LABEL.vocab.stoi)"
      ],
      "execution_count": 26,
      "outputs": [
        {
          "output_type": "stream",
          "name": "stdout",
          "text": [
            "defaultdict(None, {'1': 0, '0': 1})\n"
          ]
        }
      ]
    },
    {
      "cell_type": "code",
      "metadata": {
        "id": "jt55pscgFdKZ"
      },
      "source": [
        "import spacy\n",
        "\n",
        "\n",
        "nlp = spacy.blank(\"en\")\n",
        "\n",
        "def predict(model, sentence):\n",
        "\n",
        "    model.eval()\n",
        "    \n",
        "    with torch.no_grad():\n",
        "        tokenized = [tok.text for tok in nlp.tokenizer(sentence)]\n",
        "        indexed = [TEXT.vocab.stoi[t] for t in tokenized]\n",
        "        length = [len(indexed)]\n",
        "        tensor = torch.LongTensor(indexed).to(DEVICE)\n",
        "        tensor = tensor.unsqueeze(1)\n",
        "        length_tensor = torch.LongTensor(length)\n",
        "        predict_probas = torch.nn.functional.softmax(model(tensor, length_tensor), dim=1)\n",
        "        predicted_label_index = torch.argmax(predict_probas)\n",
        "        predicted_label_proba = torch.max(predict_probas)\n",
        "        return predicted_label_index.item(), predicted_label_proba.item()\n",
        "\n",
        "\n",
        "class_mapping = LABEL.vocab.stoi\n",
        "inverse_class_mapping = {v: k for k, v in class_mapping.items()}"
      ],
      "execution_count": 27,
      "outputs": []
    },
    {
      "cell_type": "code",
      "metadata": {
        "colab": {
          "base_uri": "https://localhost:8080/"
        },
        "id": "YjxBToiNDUZ2",
        "outputId": "d54e46e0-2ac7-4a81-9f3e-b79e86ab348a"
      },
      "source": [
        "predicted_label_index, predicted_label_proba = \\\n",
        "    predict(model, \"This is such an awesome movie, I really love it!\")\n",
        "predicted_label = inverse_class_mapping[predicted_label_index]\n",
        "\n",
        "print(f'Predicted label index: {predicted_label_index}'\n",
        "      f' | Predicted label: {predicted_label}'\n",
        "      f' | Probability: {predicted_label_proba} ')"
      ],
      "execution_count": 28,
      "outputs": [
        {
          "output_type": "stream",
          "name": "stdout",
          "text": [
            "Predicted label index: 0 | Predicted label: 1 | Probability: 0.9999967813491821 \n"
          ]
        }
      ]
    },
    {
      "cell_type": "code",
      "metadata": {
        "colab": {
          "base_uri": "https://localhost:8080/"
        },
        "id": "rioEzqOlDUZ3",
        "outputId": "0fd97434-550b-457e-b8ee-e322bf6b4d21"
      },
      "source": [
        "predicted_label_index, predicted_label_proba = \\\n",
        "    predict(model, \"I really hate this movie. It is really bad and sucks!\")\n",
        "predicted_label = inverse_class_mapping[predicted_label_index]\n",
        "\n",
        "print(f'Predicted label index: {predicted_label_index}'\n",
        "      f' | Predicted label: {predicted_label}'\n",
        "      f' | Probability: {predicted_label_proba} ')"
      ],
      "execution_count": 29,
      "outputs": [
        {
          "output_type": "stream",
          "name": "stdout",
          "text": [
            "Predicted label index: 1 | Predicted label: 0 | Probability: 0.9999997615814209 \n"
          ]
        }
      ]
    },
    {
      "cell_type": "code",
      "metadata": {
        "colab": {
          "base_uri": "https://localhost:8080/"
        },
        "id": "7lRusB3dF80X",
        "outputId": "706bfa60-5bc8-45ac-b8d4-728c68db0715"
      },
      "source": [
        "%watermark -iv"
      ],
      "execution_count": 30,
      "outputs": [
        {
          "output_type": "stream",
          "name": "stderr",
          "text": [
            "UsageError: Line magic function `%watermark` not found.\n"
          ]
        }
      ]
    }
  ]
}